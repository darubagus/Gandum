{
 "cells": [
  {
   "cell_type": "markdown",
   "metadata": {},
   "source": [
    "# Tugas Besar IF2220 Probabilitas dan Statistika\n",
    "\n",
    "### Author\n",
    "* Daru Bagus Dananjaya - 13519080\n",
    "* Shifa Salsabiila - 13519106\n",
    "\n",
    "\n",
    "### <span style='color:red'>Panduan Eksekusi Program</span>\n",
    "1. [Link Soal](https://docs.google.com/document/d/1hqnJnY0NlSeXNKJXy8F90Ik_FHcU-E6W4BUL1qJvdes/edit?usp=sharing)\n",
    "2. Run All\n",
    "3. Klik *hyperlink* pada daftar isi untuk menuju ke bagian yang diinginkan"
   ]
  },
  {
   "cell_type": "markdown",
   "metadata": {},
   "source": [
    "## Daftar Isi\n",
    "1. [Soal 1 - *Descriptive Statistics*](#Soal-1---Descriptive-Statistics)\n",
    "2. [Soal 2 - Visualisasi Plot Distribusi](#Soal-2---Visualisasi-Plot-Distribusi)\n",
    "3. [Soal 3 - Test Distribusi Normal](#Soal-3---Test-Distribusi-Normal)\n",
    "4. [Soal 4 - Tes Hipotesis 1 Sampel](#Soal-4---Tes-Hipotesis-1-Sampel)\n",
    "5. [Soal 5 - Tes Hipotesis 2 Sampel](#Soal-5---Tes-Hipotesis-2-Sampel)\n",
    "6. [Soal 6 - Tes Korelasi](#Soal-6---Tes-Korelasi)"
   ]
  },
  {
   "cell_type": "code",
   "execution_count": 78,
   "metadata": {
    "colab": {
     "base_uri": "https://localhost:8080/",
     "height": 419
    },
    "id": "j7VPJbzh6KNK",
    "outputId": "0d051905-9969-4f50-deee-bc13e48bc36c"
   },
   "outputs": [],
   "source": [
    "#Import Libraries\n",
    "from IPython.display import Markdown, display\n",
    "import pandas as pd\n",
    "import matplotlib.pyplot as plt\n",
    "import scipy\n",
    "from scipy import stats\n",
    "from pandas import DataFrame\n",
    "import seaborn as sns\n",
    "import numpy as np\n",
    "import math\n",
    "%matplotlib inline"
   ]
  },
  {
   "cell_type": "code",
   "execution_count": 79,
   "metadata": {},
   "outputs": [],
   "source": [
    "#Load data\n",
    "url = 'https://raw.githubusercontent.com/darubagus/Gandum/main/Gandum.csv'\n",
    "df = pd.read_csv(url, names=[\"id\", \"Daerah\", \"SumbuUtama\", \"SumbuKecil\", \"Keunikan\", \"AreaBulatan\", \"Diameter\", \"KadarAir\", \"Keliling\", \"Bulatan\", \"Ransum\", \"Kelas\"])"
   ]
  },
  {
   "cell_type": "markdown",
   "metadata": {},
   "source": [
    "## Soal 1 - Descriptive Statistics\n",
    "Menulis deskripsi statistika (Descriptive Statistics) dari semua kolom pada data yang bersifat\n",
    "numerik, terdiri dari mean, median, modus, standar deviasi, variansi, range, nilai minimum,\n",
    "maksimum, kuartil, IQR, skewness dan kurtosis. Boleh juga ditambahkan deskripsi lain."
   ]
  },
  {
   "cell_type": "code",
   "execution_count": 80,
   "metadata": {
    "colab": {
     "base_uri": "https://localhost:8080/",
     "height": 483
    },
    "id": "fzmcdwFu8qI0",
    "outputId": "d578b711-03b4-4f59-af56-7e2ab40835a7"
   },
   "outputs": [
    {
     "data": {
      "text/html": [
       "<div>\n",
       "<style scoped>\n",
       "    .dataframe tbody tr th:only-of-type {\n",
       "        vertical-align: middle;\n",
       "    }\n",
       "\n",
       "    .dataframe tbody tr th {\n",
       "        vertical-align: top;\n",
       "    }\n",
       "\n",
       "    .dataframe thead th {\n",
       "        text-align: right;\n",
       "    }\n",
       "</style>\n",
       "<table border=\"1\" class=\"dataframe\">\n",
       "  <thead>\n",
       "    <tr style=\"text-align: right;\">\n",
       "      <th></th>\n",
       "      <th>id</th>\n",
       "      <th>Daerah</th>\n",
       "      <th>SumbuUtama</th>\n",
       "      <th>SumbuKecil</th>\n",
       "      <th>Keunikan</th>\n",
       "      <th>AreaBulatan</th>\n",
       "      <th>Diameter</th>\n",
       "      <th>KadarAir</th>\n",
       "      <th>Keliling</th>\n",
       "      <th>Bulatan</th>\n",
       "      <th>Ransum</th>\n",
       "      <th>Kelas</th>\n",
       "    </tr>\n",
       "  </thead>\n",
       "  <tbody>\n",
       "    <tr>\n",
       "      <th>count</th>\n",
       "      <td>500.000000</td>\n",
       "      <td>500.000000</td>\n",
       "      <td>500.000000</td>\n",
       "      <td>500.000000</td>\n",
       "      <td>500.000000</td>\n",
       "      <td>5.000000e+02</td>\n",
       "      <td>500.000000</td>\n",
       "      <td>500.000000</td>\n",
       "      <td>500.000000</td>\n",
       "      <td>500.000000</td>\n",
       "      <td>500.000000</td>\n",
       "      <td>500.000000</td>\n",
       "    </tr>\n",
       "    <tr>\n",
       "      <th>mean</th>\n",
       "      <td>250.500000</td>\n",
       "      <td>4801.246000</td>\n",
       "      <td>116.045171</td>\n",
       "      <td>53.715246</td>\n",
       "      <td>0.878764</td>\n",
       "      <td>4.937048e+03</td>\n",
       "      <td>77.771158</td>\n",
       "      <td>0.648372</td>\n",
       "      <td>281.479722</td>\n",
       "      <td>0.761737</td>\n",
       "      <td>2.150915</td>\n",
       "      <td>1.502000</td>\n",
       "    </tr>\n",
       "    <tr>\n",
       "      <th>std</th>\n",
       "      <td>144.481833</td>\n",
       "      <td>986.395491</td>\n",
       "      <td>18.282626</td>\n",
       "      <td>4.071075</td>\n",
       "      <td>0.036586</td>\n",
       "      <td>1.011696e+03</td>\n",
       "      <td>8.056867</td>\n",
       "      <td>0.094367</td>\n",
       "      <td>37.335402</td>\n",
       "      <td>0.061702</td>\n",
       "      <td>0.249767</td>\n",
       "      <td>0.500497</td>\n",
       "    </tr>\n",
       "    <tr>\n",
       "      <th>min</th>\n",
       "      <td>1.000000</td>\n",
       "      <td>2522.000000</td>\n",
       "      <td>74.133114</td>\n",
       "      <td>39.906517</td>\n",
       "      <td>0.719916</td>\n",
       "      <td>2.579000e+03</td>\n",
       "      <td>56.666658</td>\n",
       "      <td>0.409927</td>\n",
       "      <td>197.015000</td>\n",
       "      <td>0.174590</td>\n",
       "      <td>1.440796</td>\n",
       "      <td>1.000000</td>\n",
       "    </tr>\n",
       "    <tr>\n",
       "      <th>Q1</th>\n",
       "      <td>125.750000</td>\n",
       "      <td>4042.750000</td>\n",
       "      <td>104.116098</td>\n",
       "      <td>51.193576</td>\n",
       "      <td>0.863676</td>\n",
       "      <td>4.170250e+03</td>\n",
       "      <td>71.745308</td>\n",
       "      <td>0.572632</td>\n",
       "      <td>255.883000</td>\n",
       "      <td>0.731991</td>\n",
       "      <td>1.983939</td>\n",
       "      <td>1.000000</td>\n",
       "    </tr>\n",
       "    <tr>\n",
       "      <th>Q2 (median)</th>\n",
       "      <td>250.500000</td>\n",
       "      <td>4735.000000</td>\n",
       "      <td>115.405140</td>\n",
       "      <td>53.731199</td>\n",
       "      <td>0.890045</td>\n",
       "      <td>4.857000e+03</td>\n",
       "      <td>77.645277</td>\n",
       "      <td>0.626117</td>\n",
       "      <td>280.045500</td>\n",
       "      <td>0.761288</td>\n",
       "      <td>2.193599</td>\n",
       "      <td>2.000000</td>\n",
       "    </tr>\n",
       "    <tr>\n",
       "      <th>Q3</th>\n",
       "      <td>375.250000</td>\n",
       "      <td>5495.500000</td>\n",
       "      <td>129.046792</td>\n",
       "      <td>56.325158</td>\n",
       "      <td>0.907578</td>\n",
       "      <td>5.654250e+03</td>\n",
       "      <td>83.648598</td>\n",
       "      <td>0.726633</td>\n",
       "      <td>306.062500</td>\n",
       "      <td>0.796361</td>\n",
       "      <td>2.381612</td>\n",
       "      <td>2.000000</td>\n",
       "    </tr>\n",
       "    <tr>\n",
       "      <th>max</th>\n",
       "      <td>500.000000</td>\n",
       "      <td>7453.000000</td>\n",
       "      <td>227.928583</td>\n",
       "      <td>68.977700</td>\n",
       "      <td>0.914001</td>\n",
       "      <td>7.720000e+03</td>\n",
       "      <td>97.413830</td>\n",
       "      <td>0.878899</td>\n",
       "      <td>488.837000</td>\n",
       "      <td>0.904748</td>\n",
       "      <td>2.464809</td>\n",
       "      <td>2.000000</td>\n",
       "    </tr>\n",
       "    <tr>\n",
       "      <th>mode</th>\n",
       "      <td>1.000000</td>\n",
       "      <td>3992.000000</td>\n",
       "      <td>74.133114</td>\n",
       "      <td>39.906517</td>\n",
       "      <td>0.719916</td>\n",
       "      <td>3.802000e+03</td>\n",
       "      <td>71.293564</td>\n",
       "      <td>0.735849</td>\n",
       "      <td>197.015000</td>\n",
       "      <td>0.174590</td>\n",
       "      <td>1.440796</td>\n",
       "      <td>2.000000</td>\n",
       "    </tr>\n",
       "    <tr>\n",
       "      <th>variance</th>\n",
       "      <td>20875.000000</td>\n",
       "      <td>972976.065615</td>\n",
       "      <td>334.254412</td>\n",
       "      <td>16.573650</td>\n",
       "      <td>0.001339</td>\n",
       "      <td>1.023529e+06</td>\n",
       "      <td>64.913111</td>\n",
       "      <td>0.008905</td>\n",
       "      <td>1393.932221</td>\n",
       "      <td>0.003807</td>\n",
       "      <td>0.062383</td>\n",
       "      <td>0.250497</td>\n",
       "    </tr>\n",
       "    <tr>\n",
       "      <th>range</th>\n",
       "      <td>499.000000</td>\n",
       "      <td>4931.000000</td>\n",
       "      <td>153.795469</td>\n",
       "      <td>29.071182</td>\n",
       "      <td>0.194085</td>\n",
       "      <td>5.141000e+03</td>\n",
       "      <td>40.747172</td>\n",
       "      <td>0.468972</td>\n",
       "      <td>291.822000</td>\n",
       "      <td>0.730158</td>\n",
       "      <td>1.024013</td>\n",
       "      <td>1.000000</td>\n",
       "    </tr>\n",
       "    <tr>\n",
       "      <th>IQR</th>\n",
       "      <td>249.500000</td>\n",
       "      <td>1452.750000</td>\n",
       "      <td>24.930694</td>\n",
       "      <td>5.131582</td>\n",
       "      <td>0.043902</td>\n",
       "      <td>1.484000e+03</td>\n",
       "      <td>11.903290</td>\n",
       "      <td>0.154001</td>\n",
       "      <td>50.179500</td>\n",
       "      <td>0.064370</td>\n",
       "      <td>0.397673</td>\n",
       "      <td>1.000000</td>\n",
       "    </tr>\n",
       "    <tr>\n",
       "      <th>skewness</th>\n",
       "      <td>0.000000</td>\n",
       "      <td>0.238144</td>\n",
       "      <td>0.761529</td>\n",
       "      <td>-0.010828</td>\n",
       "      <td>-1.623472</td>\n",
       "      <td>2.575600e-01</td>\n",
       "      <td>0.002725</td>\n",
       "      <td>0.493661</td>\n",
       "      <td>0.733627</td>\n",
       "      <td>-3.599237</td>\n",
       "      <td>-0.658188</td>\n",
       "      <td>-0.008024</td>\n",
       "    </tr>\n",
       "    <tr>\n",
       "      <th>kurtosis</th>\n",
       "      <td>-1.200000</td>\n",
       "      <td>-0.434631</td>\n",
       "      <td>4.330534</td>\n",
       "      <td>0.475568</td>\n",
       "      <td>2.917256</td>\n",
       "      <td>-4.096849e-01</td>\n",
       "      <td>-0.466455</td>\n",
       "      <td>-0.740326</td>\n",
       "      <td>2.272685</td>\n",
       "      <td>29.975096</td>\n",
       "      <td>-0.428656</td>\n",
       "      <td>-2.007984</td>\n",
       "    </tr>\n",
       "  </tbody>\n",
       "</table>\n",
       "</div>"
      ],
      "text/plain": [
       "                       id         Daerah  SumbuUtama  SumbuKecil    Keunikan  \\\n",
       "count          500.000000     500.000000  500.000000  500.000000  500.000000   \n",
       "mean           250.500000    4801.246000  116.045171   53.715246    0.878764   \n",
       "std            144.481833     986.395491   18.282626    4.071075    0.036586   \n",
       "min              1.000000    2522.000000   74.133114   39.906517    0.719916   \n",
       "Q1             125.750000    4042.750000  104.116098   51.193576    0.863676   \n",
       "Q2 (median)    250.500000    4735.000000  115.405140   53.731199    0.890045   \n",
       "Q3             375.250000    5495.500000  129.046792   56.325158    0.907578   \n",
       "max            500.000000    7453.000000  227.928583   68.977700    0.914001   \n",
       "mode             1.000000    3992.000000   74.133114   39.906517    0.719916   \n",
       "variance     20875.000000  972976.065615  334.254412   16.573650    0.001339   \n",
       "range          499.000000    4931.000000  153.795469   29.071182    0.194085   \n",
       "IQR            249.500000    1452.750000   24.930694    5.131582    0.043902   \n",
       "skewness         0.000000       0.238144    0.761529   -0.010828   -1.623472   \n",
       "kurtosis        -1.200000      -0.434631    4.330534    0.475568    2.917256   \n",
       "\n",
       "              AreaBulatan    Diameter    KadarAir     Keliling     Bulatan  \\\n",
       "count        5.000000e+02  500.000000  500.000000   500.000000  500.000000   \n",
       "mean         4.937048e+03   77.771158    0.648372   281.479722    0.761737   \n",
       "std          1.011696e+03    8.056867    0.094367    37.335402    0.061702   \n",
       "min          2.579000e+03   56.666658    0.409927   197.015000    0.174590   \n",
       "Q1           4.170250e+03   71.745308    0.572632   255.883000    0.731991   \n",
       "Q2 (median)  4.857000e+03   77.645277    0.626117   280.045500    0.761288   \n",
       "Q3           5.654250e+03   83.648598    0.726633   306.062500    0.796361   \n",
       "max          7.720000e+03   97.413830    0.878899   488.837000    0.904748   \n",
       "mode         3.802000e+03   71.293564    0.735849   197.015000    0.174590   \n",
       "variance     1.023529e+06   64.913111    0.008905  1393.932221    0.003807   \n",
       "range        5.141000e+03   40.747172    0.468972   291.822000    0.730158   \n",
       "IQR          1.484000e+03   11.903290    0.154001    50.179500    0.064370   \n",
       "skewness     2.575600e-01    0.002725    0.493661     0.733627   -3.599237   \n",
       "kurtosis    -4.096849e-01   -0.466455   -0.740326     2.272685   29.975096   \n",
       "\n",
       "                 Ransum       Kelas  \n",
       "count        500.000000  500.000000  \n",
       "mean           2.150915    1.502000  \n",
       "std            0.249767    0.500497  \n",
       "min            1.440796    1.000000  \n",
       "Q1             1.983939    1.000000  \n",
       "Q2 (median)    2.193599    2.000000  \n",
       "Q3             2.381612    2.000000  \n",
       "max            2.464809    2.000000  \n",
       "mode           1.440796    2.000000  \n",
       "variance       0.062383    0.250497  \n",
       "range          1.024013    1.000000  \n",
       "IQR            0.397673    1.000000  \n",
       "skewness      -0.658188   -0.008024  \n",
       "kurtosis      -0.428656   -2.007984  "
      ]
     },
     "execution_count": 80,
     "metadata": {},
     "output_type": "execute_result"
    }
   ],
   "source": [
    "desc_statistics = df.describe()\n",
    "\n",
    "desc_statistics = desc_statistics.append(df.mode(axis=0, numeric_only=True ,dropna=True).head(1).squeeze(), ignore_index=True)\n",
    "desc_statistics = desc_statistics.append(df.var(), ignore_index=True)\n",
    "desc_statistics = desc_statistics.append(df.max()-df.min(), ignore_index=True)\n",
    "desc_statistics = desc_statistics.append(df.quantile(0.75)-df.quantile(0.25), ignore_index=True)\n",
    "desc_statistics = desc_statistics.append(df.skew(), ignore_index=True)\n",
    "desc_statistics = desc_statistics.append(df.kurt(), ignore_index=True)\n",
    "desc_statistics.index = ['count','mean','std','min','Q1','Q2 (median)','Q3','max','mode','variance', 'range','IQR','skewness','kurtosis']\n",
    "desc_statistics"
   ]
  },
  {
   "cell_type": "markdown",
   "metadata": {},
   "source": [
    "### Modus\n",
    "Dari hasil pemanggilan fungsi mode() pada dataframe, dapat disimpulkan bahwa tidak semua kolom memiliki modus singular."
   ]
  },
  {
   "cell_type": "code",
   "execution_count": 81,
   "metadata": {},
   "outputs": [
    {
     "data": {
      "text/html": [
       "<div>\n",
       "<style scoped>\n",
       "    .dataframe tbody tr th:only-of-type {\n",
       "        vertical-align: middle;\n",
       "    }\n",
       "\n",
       "    .dataframe tbody tr th {\n",
       "        vertical-align: top;\n",
       "    }\n",
       "\n",
       "    .dataframe thead th {\n",
       "        text-align: right;\n",
       "    }\n",
       "</style>\n",
       "<table border=\"1\" class=\"dataframe\">\n",
       "  <thead>\n",
       "    <tr style=\"text-align: right;\">\n",
       "      <th></th>\n",
       "      <th>id</th>\n",
       "      <th>Daerah</th>\n",
       "      <th>SumbuUtama</th>\n",
       "      <th>SumbuKecil</th>\n",
       "      <th>Keunikan</th>\n",
       "      <th>AreaBulatan</th>\n",
       "      <th>Diameter</th>\n",
       "      <th>KadarAir</th>\n",
       "      <th>Keliling</th>\n",
       "      <th>Bulatan</th>\n",
       "      <th>Ransum</th>\n",
       "      <th>Kelas</th>\n",
       "    </tr>\n",
       "  </thead>\n",
       "  <tbody>\n",
       "    <tr>\n",
       "      <th>0</th>\n",
       "      <td>1</td>\n",
       "      <td>3992.0</td>\n",
       "      <td>74.133114</td>\n",
       "      <td>39.906517</td>\n",
       "      <td>0.719916</td>\n",
       "      <td>3802.0</td>\n",
       "      <td>71.293564</td>\n",
       "      <td>0.735849</td>\n",
       "      <td>197.015</td>\n",
       "      <td>0.174590</td>\n",
       "      <td>1.440796</td>\n",
       "      <td>2.0</td>\n",
       "    </tr>\n",
       "    <tr>\n",
       "      <th>1</th>\n",
       "      <td>2</td>\n",
       "      <td>4881.0</td>\n",
       "      <td>74.364021</td>\n",
       "      <td>41.436419</td>\n",
       "      <td>0.725553</td>\n",
       "      <td>4913.0</td>\n",
       "      <td>78.833256</td>\n",
       "      <td>0.824405</td>\n",
       "      <td>200.587</td>\n",
       "      <td>0.261297</td>\n",
       "      <td>1.453137</td>\n",
       "      <td>NaN</td>\n",
       "    </tr>\n",
       "    <tr>\n",
       "      <th>2</th>\n",
       "      <td>3</td>\n",
       "      <td>5642.0</td>\n",
       "      <td>74.691881</td>\n",
       "      <td>42.871879</td>\n",
       "      <td>0.731211</td>\n",
       "      <td>NaN</td>\n",
       "      <td>84.756224</td>\n",
       "      <td>NaN</td>\n",
       "      <td>202.456</td>\n",
       "      <td>0.299298</td>\n",
       "      <td>1.465950</td>\n",
       "      <td>NaN</td>\n",
       "    </tr>\n",
       "    <tr>\n",
       "      <th>3</th>\n",
       "      <td>4</td>\n",
       "      <td>6083.0</td>\n",
       "      <td>76.293164</td>\n",
       "      <td>43.284979</td>\n",
       "      <td>0.738639</td>\n",
       "      <td>NaN</td>\n",
       "      <td>88.006342</td>\n",
       "      <td>NaN</td>\n",
       "      <td>207.325</td>\n",
       "      <td>0.589146</td>\n",
       "      <td>1.483456</td>\n",
       "      <td>NaN</td>\n",
       "    </tr>\n",
       "    <tr>\n",
       "      <th>4</th>\n",
       "      <td>5</td>\n",
       "      <td>NaN</td>\n",
       "      <td>76.789043</td>\n",
       "      <td>44.119355</td>\n",
       "      <td>0.749282</td>\n",
       "      <td>NaN</td>\n",
       "      <td>NaN</td>\n",
       "      <td>NaN</td>\n",
       "      <td>207.697</td>\n",
       "      <td>0.603807</td>\n",
       "      <td>1.510000</td>\n",
       "      <td>NaN</td>\n",
       "    </tr>\n",
       "    <tr>\n",
       "      <th>...</th>\n",
       "      <td>...</td>\n",
       "      <td>...</td>\n",
       "      <td>...</td>\n",
       "      <td>...</td>\n",
       "      <td>...</td>\n",
       "      <td>...</td>\n",
       "      <td>...</td>\n",
       "      <td>...</td>\n",
       "      <td>...</td>\n",
       "      <td>...</td>\n",
       "      <td>...</td>\n",
       "      <td>...</td>\n",
       "    </tr>\n",
       "    <tr>\n",
       "      <th>495</th>\n",
       "      <td>496</td>\n",
       "      <td>NaN</td>\n",
       "      <td>152.068440</td>\n",
       "      <td>63.322854</td>\n",
       "      <td>0.913724</td>\n",
       "      <td>NaN</td>\n",
       "      <td>NaN</td>\n",
       "      <td>NaN</td>\n",
       "      <td>375.651</td>\n",
       "      <td>0.872417</td>\n",
       "      <td>2.461017</td>\n",
       "      <td>NaN</td>\n",
       "    </tr>\n",
       "    <tr>\n",
       "      <th>496</th>\n",
       "      <td>497</td>\n",
       "      <td>NaN</td>\n",
       "      <td>152.113491</td>\n",
       "      <td>63.762307</td>\n",
       "      <td>0.913760</td>\n",
       "      <td>NaN</td>\n",
       "      <td>NaN</td>\n",
       "      <td>NaN</td>\n",
       "      <td>390.125</td>\n",
       "      <td>0.874243</td>\n",
       "      <td>2.461510</td>\n",
       "      <td>NaN</td>\n",
       "    </tr>\n",
       "    <tr>\n",
       "      <th>497</th>\n",
       "      <td>498</td>\n",
       "      <td>NaN</td>\n",
       "      <td>153.583387</td>\n",
       "      <td>64.012769</td>\n",
       "      <td>0.913891</td>\n",
       "      <td>NaN</td>\n",
       "      <td>NaN</td>\n",
       "      <td>NaN</td>\n",
       "      <td>434.235</td>\n",
       "      <td>0.874743</td>\n",
       "      <td>2.463297</td>\n",
       "      <td>NaN</td>\n",
       "    </tr>\n",
       "    <tr>\n",
       "      <th>498</th>\n",
       "      <td>499</td>\n",
       "      <td>NaN</td>\n",
       "      <td>227.105462</td>\n",
       "      <td>65.738475</td>\n",
       "      <td>0.913909</td>\n",
       "      <td>NaN</td>\n",
       "      <td>NaN</td>\n",
       "      <td>NaN</td>\n",
       "      <td>448.305</td>\n",
       "      <td>0.891706</td>\n",
       "      <td>2.463546</td>\n",
       "      <td>NaN</td>\n",
       "    </tr>\n",
       "    <tr>\n",
       "      <th>499</th>\n",
       "      <td>500</td>\n",
       "      <td>NaN</td>\n",
       "      <td>227.928583</td>\n",
       "      <td>68.977700</td>\n",
       "      <td>0.914001</td>\n",
       "      <td>NaN</td>\n",
       "      <td>NaN</td>\n",
       "      <td>NaN</td>\n",
       "      <td>488.837</td>\n",
       "      <td>0.904748</td>\n",
       "      <td>2.464809</td>\n",
       "      <td>NaN</td>\n",
       "    </tr>\n",
       "  </tbody>\n",
       "</table>\n",
       "<p>500 rows × 12 columns</p>\n",
       "</div>"
      ],
      "text/plain": [
       "      id  Daerah  SumbuUtama  SumbuKecil  Keunikan  AreaBulatan   Diameter  \\\n",
       "0      1  3992.0   74.133114   39.906517  0.719916       3802.0  71.293564   \n",
       "1      2  4881.0   74.364021   41.436419  0.725553       4913.0  78.833256   \n",
       "2      3  5642.0   74.691881   42.871879  0.731211          NaN  84.756224   \n",
       "3      4  6083.0   76.293164   43.284979  0.738639          NaN  88.006342   \n",
       "4      5     NaN   76.789043   44.119355  0.749282          NaN        NaN   \n",
       "..   ...     ...         ...         ...       ...          ...        ...   \n",
       "495  496     NaN  152.068440   63.322854  0.913724          NaN        NaN   \n",
       "496  497     NaN  152.113491   63.762307  0.913760          NaN        NaN   \n",
       "497  498     NaN  153.583387   64.012769  0.913891          NaN        NaN   \n",
       "498  499     NaN  227.105462   65.738475  0.913909          NaN        NaN   \n",
       "499  500     NaN  227.928583   68.977700  0.914001          NaN        NaN   \n",
       "\n",
       "     KadarAir  Keliling   Bulatan    Ransum  Kelas  \n",
       "0    0.735849   197.015  0.174590  1.440796    2.0  \n",
       "1    0.824405   200.587  0.261297  1.453137    NaN  \n",
       "2         NaN   202.456  0.299298  1.465950    NaN  \n",
       "3         NaN   207.325  0.589146  1.483456    NaN  \n",
       "4         NaN   207.697  0.603807  1.510000    NaN  \n",
       "..        ...       ...       ...       ...    ...  \n",
       "495       NaN   375.651  0.872417  2.461017    NaN  \n",
       "496       NaN   390.125  0.874243  2.461510    NaN  \n",
       "497       NaN   434.235  0.874743  2.463297    NaN  \n",
       "498       NaN   448.305  0.891706  2.463546    NaN  \n",
       "499       NaN   488.837  0.904748  2.464809    NaN  \n",
       "\n",
       "[500 rows x 12 columns]"
      ]
     },
     "execution_count": 81,
     "metadata": {},
     "output_type": "execute_result"
    }
   ],
   "source": [
    "df.mode(axis=0, numeric_only=True ,dropna=True)"
   ]
  },
  {
   "cell_type": "markdown",
   "metadata": {
    "colab": {
     "base_uri": "https://localhost:8080/",
     "height": 284
    },
    "id": "GTk24TMZ8s6C",
    "outputId": "52d75448-ae88-4e63-b60e-44470318e93e"
   },
   "source": [
    "---\n",
    "\n",
    "## Soal 2 - Visualisasi Plot Distribusi\n",
    "Membuat Visualisasi plot distribusi, dalam bentuk histogram dan boxplot untuk setiap\n",
    "kolom numerik. Berikan uraian penjelasan kondisi setiap kolom berdasarkan kedua plot\n",
    "tersebut."
   ]
  },
  {
   "cell_type": "markdown",
   "metadata": {},
   "source": [
    "---\n",
    "\n",
    "\n",
    "### 2.1 Visualisasi plot *ID*\n",
    "\n",
    "Berdasarkan data yang diperoleh dari *soal 1*, kolom id memiliki nilai skewness sebesar $0.000000$, berarti distribusi dari kolom id dapat dikatakan ***uniform*** dan tidak terlihat adanya *outliers* dari boxplot.\n"
   ]
  },
  {
   "cell_type": "code",
   "execution_count": 82,
   "metadata": {
    "colab": {
     "base_uri": "https://localhost:8080/",
     "height": 530
    },
    "id": "g3Vx_sfUB9PD",
    "outputId": "b69e2268-a1e4-44d9-e51a-2a7b06f78df4"
   },
   "outputs": [
    {
     "data": {
      "text/plain": [
       "<matplotlib.axes._subplots.AxesSubplot at 0x7fa78e9332b0>"
      ]
     },
     "execution_count": 82,
     "metadata": {},
     "output_type": "execute_result"
    },
    {
     "data": {
      "image/png": "[encoded data removed]",
      "text/plain": [
       "<Figure size 432x288 with 1 Axes>"
      ]
     },
     "metadata": {
      "needs_background": "light"
     },
     "output_type": "display_data"
    },
    {
     "data": {
      "image/png": "[encoded data removed]",
      "text/plain": [
       "<Figure size 432x288 with 1 Axes>"
      ]
     },
     "metadata": {
      "needs_background": "light"
     },
     "output_type": "display_data"
    }
   ],
   "source": [
    "daerah = df[\"id\"]\n",
    "daerah.hist()\n",
    "plt.figure() #Buat misahin graphnya\n",
    "df.boxplot(column=[\"id\"])"
   ]
  },
  {
   "cell_type": "markdown",
   "metadata": {},
   "source": [
    "---\n",
    "\n",
    "\n",
    "### 2.2 Visualisasi plot *Daerah*\n",
    "\n",
    "Berdasarkan data yang diperoleh dari *soal 1*, kolom daerah memiliki nilai skewness sebesar $0.238144$, berarti distribusi dari kolom Daerah cenderung ***normal*** dan tidak terlihat adanya *outliers* dari boxplot.\n"
   ]
  },
  {
   "cell_type": "code",
   "execution_count": 83,
   "metadata": {
    "colab": {
     "base_uri": "https://localhost:8080/",
     "height": 530
    },
    "id": "g3Vx_sfUB9PD",
    "outputId": "b69e2268-a1e4-44d9-e51a-2a7b06f78df4"
   },
   "outputs": [
    {
     "data": {
      "text/plain": [
       "<matplotlib.axes._subplots.AxesSubplot at 0x7fa78eb0c2b0>"
      ]
     },
     "execution_count": 83,
     "metadata": {},
     "output_type": "execute_result"
    },
    {
     "data": {
      "image/png": "[encoded data removed]",
      "text/plain": [
       "<Figure size 432x288 with 1 Axes>"
      ]
     },
     "metadata": {
      "needs_background": "light"
     },
     "output_type": "display_data"
    },
    {
     "data": {
      "image/png": "[encoded data removed]",
      "text/plain": [
       "<Figure size 432x288 with 1 Axes>"
      ]
     },
     "metadata": {
      "needs_background": "light"
     },
     "output_type": "display_data"
    }
   ],
   "source": [
    "daerah = df[\"Daerah\"]\n",
    "daerah.hist()\n",
    "plt.figure() #Buat misahin graphnya\n",
    "df.boxplot(column=[\"Daerah\"])"
   ]
  },
  {
   "cell_type": "markdown",
   "metadata": {},
   "source": [
    "---\n",
    "\n",
    "\n",
    "### 2.3 Visualisasi plot *Sumbu Utama*\n",
    "\n",
    "Berdasarkan data yang diperoleh dari *soal 1*, kolom Sumbu Utama memiliki nilai skewness sebesar $0.761529$, berarti distribusi dari kolom Sumbu Utama cenderung ***positively skewed*** dan terlihat adanya *outliers* dari boxplot pada bernilai sekitar $230$."
   ]
  },
  {
   "cell_type": "code",
   "execution_count": 84,
   "metadata": {
    "colab": {
     "base_uri": "https://localhost:8080/",
     "height": 531
    },
    "id": "vQWSlb_sFNOU",
    "outputId": "642a77be-fd5f-4e5f-bda1-234ff9e08725"
   },
   "outputs": [
    {
     "data": {
      "text/plain": [
       "<matplotlib.axes._subplots.AxesSubplot at 0x7fa78e9fb6a0>"
      ]
     },
     "execution_count": 84,
     "metadata": {},
     "output_type": "execute_result"
    },
    {
     "data": {
      "image/png": "[encoded data removed]",
      "text/plain": [
       "<Figure size 432x288 with 1 Axes>"
      ]
     },
     "metadata": {
      "needs_background": "light"
     },
     "output_type": "display_data"
    },
    {
     "data": {
      "image/png": "[encoded data removed]",
      "text/plain": [
       "<Figure size 432x288 with 1 Axes>"
      ]
     },
     "metadata": {
      "needs_background": "light"
     },
     "output_type": "display_data"
    }
   ],
   "source": [
    "sumbuUtama = df[\"SumbuUtama\"]\n",
    "sumbuUtama.hist()\n",
    "plt.figure()\n",
    "df.boxplot(column=[\"SumbuUtama\"])"
   ]
  },
  {
   "cell_type": "markdown",
   "metadata": {},
   "source": [
    "---\n",
    "\n",
    "### 2.4 Visualisasi plot *Sumbu Kecil*\n",
    "\n",
    "Berdasarkan data yang diperoleh dari *soal 1*, kolom Sumbu Kecil memiliki nilai skewness sebesar $-0.010828$, berarti distribusi dari kolom Sumbu Kecil cenderung ***normal*** meskipun terlihat adanya *outliers* $(Q1 - 1.5IQR)$ dan $(Q3+1.5IQR)$ dari boxplot yang bernilai sekitar $40-44$ dan $65-70$."
   ]
  },
  {
   "cell_type": "code",
   "execution_count": 85,
   "metadata": {
    "colab": {
     "base_uri": "https://localhost:8080/",
     "height": 531
    },
    "id": "c3ho_mQ2FT0s",
    "outputId": "809f9e34-efe8-49c1-8047-0d88bb6f35f1"
   },
   "outputs": [
    {
     "data": {
      "text/plain": [
       "<matplotlib.axes._subplots.AxesSubplot at 0x7fa78f3a02e0>"
      ]
     },
     "execution_count": 85,
     "metadata": {},
     "output_type": "execute_result"
    },
    {
     "data": {
      "image/png": "[encoded data removed]",
      "text/plain": [
       "<Figure size 432x288 with 1 Axes>"
      ]
     },
     "metadata": {
      "needs_background": "light"
     },
     "output_type": "display_data"
    },
    {
     "data": {
      "image/png": "[encoded data removed]",
      "text/plain": [
       "<Figure size 432x288 with 1 Axes>"
      ]
     },
     "metadata": {
      "needs_background": "light"
     },
     "output_type": "display_data"
    }
   ],
   "source": [
    "sumbuKecil = df[\"SumbuKecil\"]\n",
    "sumbuKecil.hist()\n",
    "plt.figure()\n",
    "df.boxplot(column=[\"SumbuKecil\"])"
   ]
  },
  {
   "cell_type": "markdown",
   "metadata": {},
   "source": [
    "---\n",
    "\n",
    "### 2.5 Visualisasi plot *Keunikan*\n",
    "\n",
    "Berdasarkan data yang diperoleh dari *soal 1*, kolom Keunikan memiliki nilai skewness sebesar $-1.623472$, berarti distribusi dari kolom Keunikan sangat ***negatively skewed***. Sebagian data dapat diklasifikasikan sebagai *outliers* karena terletak di luar $(Q1-1.5IQR)$ pada boxplot."
   ]
  },
  {
   "cell_type": "code",
   "execution_count": 86,
   "metadata": {
    "colab": {
     "base_uri": "https://localhost:8080/",
     "height": 530
    },
    "id": "YoNmtGO5FhyI",
    "outputId": "33d721d0-688f-4e69-d8eb-48f74175449c"
   },
   "outputs": [
    {
     "data": {
      "text/plain": [
       "<matplotlib.axes._subplots.AxesSubplot at 0x7fa78f3e13d0>"
      ]
     },
     "execution_count": 86,
     "metadata": {},
     "output_type": "execute_result"
    },
    {
     "data": {
      "image/png": "[encoded data removed]",
      "text/plain": [
       "<Figure size 432x288 with 1 Axes>"
      ]
     },
     "metadata": {
      "needs_background": "light"
     },
     "output_type": "display_data"
    },
    {
     "data": {
      "image/png": "[encoded data removed]",
      "text/plain": [
       "<Figure size 432x288 with 1 Axes>"
      ]
     },
     "metadata": {
      "needs_background": "light"
     },
     "output_type": "display_data"
    }
   ],
   "source": [
    "keunikan = df[\"Keunikan\"]\n",
    "keunikan.hist()\n",
    "plt.figure()\n",
    "df.boxplot(column=[\"Keunikan\"])"
   ]
  },
  {
   "cell_type": "markdown",
   "metadata": {},
   "source": [
    "---\n",
    "\n",
    "\n",
    "### 2.6 Visualisasi plot *Area Bulatan*\n",
    "\n",
    "Berdasarkan data yang diperoleh dari *soal 1*, kolom Area Bulatan memiliki nilai skewness sebesar $2.575600e-01$, berarti distribusi dari kolom Area Bulatan cenderung ***normal***. **Tidak terlihat adanya outliers** pada boxplot."
   ]
  },
  {
   "cell_type": "code",
   "execution_count": 87,
   "metadata": {
    "colab": {
     "base_uri": "https://localhost:8080/",
     "height": 530
    },
    "id": "VAgjOGRaFswN",
    "outputId": "89328371-5fd4-4295-ced9-80b0e58b3ab6"
   },
   "outputs": [
    {
     "data": {
      "text/plain": [
       "<matplotlib.axes._subplots.AxesSubplot at 0x7fa78f3ce9d0>"
      ]
     },
     "execution_count": 87,
     "metadata": {},
     "output_type": "execute_result"
    },
    {
     "data": {
      "image/png": "[encoded data removed]",
      "text/plain": [
       "<Figure size 432x288 with 1 Axes>"
      ]
     },
     "metadata": {
      "needs_background": "light"
     },
     "output_type": "display_data"
    },
    {
     "data": {
      "image/png": "[encoded data removed]",
      "text/plain": [
       "<Figure size 432x288 with 1 Axes>"
      ]
     },
     "metadata": {
      "needs_background": "light"
     },
     "output_type": "display_data"
    }
   ],
   "source": [
    "areaBulatan = df[\"AreaBulatan\"]\n",
    "areaBulatan.hist()\n",
    "plt.figure()\n",
    "df.boxplot(column=[\"AreaBulatan\"])"
   ]
  },
  {
   "cell_type": "markdown",
   "metadata": {},
   "source": [
    "---\n",
    "\n",
    "### 2.7 Visualisasi plot *Diameter*\n",
    "\n",
    "Berdasarkan data yang diperoleh dari *soal 1*, kolom Diameter memiliki nilai standar deviasi sebesar $8.056867$ skewness sebesar $0.002725$, berarti distribusi dari kolom Diameter cenderung ***normal***. Standar deviasi yang dimiliki kolom Diameter cukup besar, sehingga terdapat beberapa data points yang terletak cukup jauh dari mean."
   ]
  },
  {
   "cell_type": "code",
   "execution_count": 88,
   "metadata": {
    "colab": {
     "base_uri": "https://localhost:8080/",
     "height": 530
    },
    "id": "W9zXh5FAFzF8",
    "outputId": "69d0c2c2-e8c8-4c77-b706-57a300d5a2e8"
   },
   "outputs": [
    {
     "data": {
      "text/plain": [
       "<matplotlib.axes._subplots.AxesSubplot at 0x7fa78f481f10>"
      ]
     },
     "execution_count": 88,
     "metadata": {},
     "output_type": "execute_result"
    },
    {
     "data": {
      "image/png": "[encoded data removed]",
      "text/plain": [
       "<Figure size 432x288 with 1 Axes>"
      ]
     },
     "metadata": {
      "needs_background": "light"
     },
     "output_type": "display_data"
    },
    {
     "data": {
      "image/png": "[encoded data removed]",
      "text/plain": [
       "<Figure size 432x288 with 1 Axes>"
      ]
     },
     "metadata": {
      "needs_background": "light"
     },
     "output_type": "display_data"
    }
   ],
   "source": [
    "diameter = df[\"Diameter\"]\n",
    "diameter.hist()\n",
    "plt.figure()\n",
    "df.boxplot(column=[\"Diameter\"])"
   ]
  },
  {
   "cell_type": "markdown",
   "metadata": {},
   "source": [
    "---\n",
    "\n",
    "### 2.8 Visualisasi plot *Kadar Air*\n",
    "\n",
    "Berdasarkan data yang diperoleh dari *soal 1*, kolom Kadar Air memiliki nilai  skewness sebesar $0.493661$, berarti distribusi dari kolom Kadar Air cenderung ***positively skewed***. Dari boxplot terlihat bahwa kolom Kadar Air tidak memiliki outliers."
   ]
  },
  {
   "cell_type": "code",
   "execution_count": 89,
   "metadata": {
    "colab": {
     "base_uri": "https://localhost:8080/",
     "height": 533
    },
    "id": "M0uu9zZAGBQQ",
    "outputId": "e5119084-db22-4217-bf23-96718b513a45"
   },
   "outputs": [
    {
     "data": {
      "text/plain": [
       "<matplotlib.axes._subplots.AxesSubplot at 0x7fa78f24a700>"
      ]
     },
     "execution_count": 89,
     "metadata": {},
     "output_type": "execute_result"
    },
    {
     "data": {
      "image/png": "[encoded data removed]",
      "text/plain": [
       "<Figure size 432x288 with 1 Axes>"
      ]
     },
     "metadata": {
      "needs_background": "light"
     },
     "output_type": "display_data"
    },
    {
     "data": {
      "image/png": "[encoded data removed]",
      "text/plain": [
       "<Figure size 432x288 with 1 Axes>"
      ]
     },
     "metadata": {
      "needs_background": "light"
     },
     "output_type": "display_data"
    }
   ],
   "source": [
    "kadarAir = df[\"KadarAir\"]\n",
    "kadarAir.hist()\n",
    "plt.figure()\n",
    "df.boxplot(column=[\"KadarAir\"])"
   ]
  },
  {
   "cell_type": "markdown",
   "metadata": {},
   "source": [
    "---\n",
    "\n",
    "\n",
    "### 2.9 Visualisasi plot *Keliling*\n",
    "\n",
    "Berdasarkan data yang diperoleh dari *soal 1*, kolom Keliling memiliki nilai  skewness sebesar $0.733627$, berarti distribusi dari kolom Keliling cenderung ***positively skewed***. Dari boxplot terlihat bahwa terdapat beberapa outliers yang terletak di daerah $(Q3+1.5IQR)$."
   ]
  },
  {
   "cell_type": "code",
   "execution_count": 90,
   "metadata": {
    "colab": {
     "base_uri": "https://localhost:8080/",
     "height": 532
    },
    "id": "CGHEoYDCGKe7",
    "outputId": "75897bac-84cb-4e99-e4ba-dff75f6f87c6"
   },
   "outputs": [
    {
     "data": {
      "text/plain": [
       "<matplotlib.axes._subplots.AxesSubplot at 0x7fa78ef3b430>"
      ]
     },
     "execution_count": 90,
     "metadata": {},
     "output_type": "execute_result"
    },
    {
     "data": {
      "image/png": "[encoded data removed]",
      "text/plain": [
       "<Figure size 432x288 with 1 Axes>"
      ]
     },
     "metadata": {
      "needs_background": "light"
     },
     "output_type": "display_data"
    },
    {
     "data": {
      "image/png": "[encoded data removed]",
      "text/plain": [
       "<Figure size 432x288 with 1 Axes>"
      ]
     },
     "metadata": {
      "needs_background": "light"
     },
     "output_type": "display_data"
    }
   ],
   "source": [
    "keliling = df[\"Keliling\"]\n",
    "keliling.hist()\n",
    "plt.figure()\n",
    "df.boxplot(column=[\"Keliling\"])"
   ]
  },
  {
   "cell_type": "markdown",
   "metadata": {},
   "source": [
    "---\n",
    "\n",
    "### 2.10 Visualisasi plot *Bulatan*\n",
    "\n",
    "Berdasarkan data yang diperoleh dari *soal 1*, kolom Bulatan memiliki nilai  skewness sebesar $-3.599237$, berarti distribusi dari kolom Bulatan sangat ***negatively skewed***. Dari boxplot terlihat bahwa terdapat beberapa outliers yang terletak di daerah $(Q3+1.5IQR)$ dan $(Q1-1.5IQR)$."
   ]
  },
  {
   "cell_type": "code",
   "execution_count": 91,
   "metadata": {
    "colab": {
     "base_uri": "https://localhost:8080/",
     "height": 530
    },
    "id": "NItmAvbEGmWb",
    "outputId": "a0783ed0-8cd1-46ee-c486-c5a296d265ec"
   },
   "outputs": [
    {
     "data": {
      "text/plain": [
       "<matplotlib.axes._subplots.AxesSubplot at 0x7fa78efbc5b0>"
      ]
     },
     "execution_count": 91,
     "metadata": {},
     "output_type": "execute_result"
    },
    {
     "data": {
      "image/png": "[encoded data removed]",
      "text/plain": [
       "<Figure size 432x288 with 1 Axes>"
      ]
     },
     "metadata": {
      "needs_background": "light"
     },
     "output_type": "display_data"
    },
    {
     "data": {
      "image/png": "[encoded data removed]",
      "text/plain": [
       "<Figure size 432x288 with 1 Axes>"
      ]
     },
     "metadata": {
      "needs_background": "light"
     },
     "output_type": "display_data"
    }
   ],
   "source": [
    "bulatan = df[\"Bulatan\"]\n",
    "bulatan.hist()\n",
    "plt.figure()\n",
    "df.boxplot(column=[\"Bulatan\"])"
   ]
  },
  {
   "cell_type": "markdown",
   "metadata": {},
   "source": [
    "---\n",
    "\n",
    "### 2.11 Visualisasi plot *Ransum* \n",
    "Berdasarkan data yang diperoleh dari *soal 1*, kolom Ransum memiliki nilai  skewness sebesar $-0.658188$, berarti distribusi dari kolom Ransum cenderung ***negatively skewed***. Dari boxplot tidak terlihat adanya outliers."
   ]
  },
  {
   "cell_type": "code",
   "execution_count": 92,
   "metadata": {
    "colab": {
     "base_uri": "https://localhost:8080/",
     "height": 530
    },
    "id": "CjuU3IebGo3r",
    "outputId": "4a3adcb9-f69c-46ac-d812-f0f9ca8d31c1"
   },
   "outputs": [
    {
     "data": {
      "text/plain": [
       "<matplotlib.axes._subplots.AxesSubplot at 0x7fa78f3d80d0>"
      ]
     },
     "execution_count": 92,
     "metadata": {},
     "output_type": "execute_result"
    },
    {
     "data": {
      "image/png": "[encoded data removed]",
      "text/plain": [
       "<Figure size 432x288 with 1 Axes>"
      ]
     },
     "metadata": {
      "needs_background": "light"
     },
     "output_type": "display_data"
    },
    {
     "data": {
      "image/png": "[encoded data removed]",
      "text/plain": [
       "<Figure size 432x288 with 1 Axes>"
      ]
     },
     "metadata": {
      "needs_background": "light"
     },
     "output_type": "display_data"
    }
   ],
   "source": [
    "ransum = df[\"Ransum\"]\n",
    "ransum.hist()\n",
    "plt.figure()\n",
    "df.boxplot(column=[\"Ransum\"])"
   ]
  },
  {
   "cell_type": "markdown",
   "metadata": {},
   "source": [
    "---\n",
    "\n",
    "### 2.12 Visualisasi plot *Kelas* \n",
    "Berdasarkan data yang diperoleh dari *soal 1*, kolom Kelas memiliki nilai  skewness sebesar $-0.008024$, berarti distribusi kolom kelas merupakan distribusi diskrit yang lebih cocok diklasifikasikan sebagai distribusi binomial. Dari boxplot tidak terlihat adanya outliers.\n"
   ]
  },
  {
   "cell_type": "code",
   "execution_count": 93,
   "metadata": {
    "colab": {
     "base_uri": "https://localhost:8080/",
     "height": 530
    },
    "id": "CuogZnirGp9m",
    "outputId": "98741a90-90e3-47be-ce8f-7ca9bd5d641b"
   },
   "outputs": [
    {
     "data": {
      "text/plain": [
       "<matplotlib.axes._subplots.AxesSubplot at 0x7fa78f78a040>"
      ]
     },
     "execution_count": 93,
     "metadata": {},
     "output_type": "execute_result"
    },
    {
     "data": {
      "image/png": "[encoded data removed]",
      "text/plain": [
       "<Figure size 432x288 with 1 Axes>"
      ]
     },
     "metadata": {
      "needs_background": "light"
     },
     "output_type": "display_data"
    },
    {
     "data": {
      "image/png": "[encoded data removed]",
      "text/plain": [
       "<Figure size 432x288 with 1 Axes>"
      ]
     },
     "metadata": {
      "needs_background": "light"
     },
     "output_type": "display_data"
    }
   ],
   "source": [
    "kelas = df[\"Kelas\"]\n",
    "kelas.hist()\n",
    "plt.figure()\n",
    "df.boxplot(column=[\"Kelas\"])"
   ]
  },
  {
   "cell_type": "markdown",
   "metadata": {
    "colab": {
     "base_uri": "https://localhost:8080/",
     "height": 284
    },
    "id": "GTk24TMZ8s6C",
    "outputId": "52d75448-ae88-4e63-b60e-44470318e93e"
   },
   "source": [
    "---\n",
    "\n",
    "## Soal 3 - Test Distribusi Normal\n",
    "Menentukan setiap kolom numerik berdistribusi normal atau tidak\n",
    "\n",
    "### **D'Agostino-Pearson Normality Test**\n",
    "\n",
    "D'Agostino-Pearson Normality Test dilakukan dengan mengkombinasikan Skewness test dan Kurtosis test yang dalam program ini dilakukan dengan memanggil fungsi ```stats.normaltest({dataframe})``` dari library *scipy* kemudian divisualisasikan dengan ```sns.distplot({dataframe})``` dari library *seaborn*. <br>\n",
    "<br>\n",
    "Pada test ini, digunakan persamaan : <br><br>\n",
    "\n",
    "$K^2 = Z_s^2 + Z_k^2$. $Z_s$ <br><br>\n",
    "\n",
    "dengan $Z_s$ merupakan hasil skewness test, $Z_k$ merupakan hasil kurtosis test. $K^2$ diperoleh dengan cara aproksimasi terdistribusi dengan menggunakan $\\chi^2$ (chi-squared) dengan derajat kebebasan $2$<br><br>\n",
    "\n",
    "Hipotesis null ($H_0$) default dari test ini adalah masing-masing kolom yang dites terdistribusi normal. Normality test dengan menggunakan metode ini akan menghasilkan dua nilai, yaitu stat dan $p$. Apabila $p > \\alpha$, maka $H_0$ diterima sehingga dapat disimpulkan bahwa kolom terdistribusi normal. Sedangkan jika $p < \\alpha $, maka $H_0$ ditolak sehingga disimpulkan bahwa kolom tidak terdistribusi normal.\n",
    "\n",
    "### **Kesimpulan hasil tes**\n",
    "\n",
    "Berdasarkan hasil normality test yang dilakukan untuk setiap kolom, hanya kolom SumbuKecil yang terdistribusi normal, hal ini sesuai dengan visualisasi pada histogram yaitu kolom SumbuKecil berbentuk bell-shape."
   ]
  },
  {
   "cell_type": "code",
   "execution_count": 94,
   "metadata": {
    "colab": {
     "base_uri": "https://localhost:8080/",
     "height": 36
    },
    "id": "ul7wdzMd8wcp",
    "outputId": "b2cf2410-0e40-4085-fc3a-63b30642d587"
   },
   "outputs": [],
   "source": [
    "import warnings\n",
    "warnings.simplefilter(action=\"ignore\", category=FutureWarning)\n",
    "\n",
    "def normalityTest(kolom):\n",
    "  alpha = 0.05\n",
    "  stat, p = stats.normaltest(df[kolom])\n",
    "  print('alpha = %.3f' %(alpha))\n",
    "  print('stat = %.3f' % (stat))\n",
    "  print('p_value = %.3f' %(p))\n",
    "  # null hypotesis : x comes from a normal distribution\n",
    "  print(\"Result :\")\n",
    "  if (p > alpha):\n",
    "      conclusion = kolom + ' is normally distributed'\n",
    "  else :\n",
    "      conclusion = kolom + ' is not normally distributed'\n",
    "  \n",
    "  print(conclusion)\n",
    "  print()\n",
    "  display(Markdown(conclusion))\n",
    "  \n",
    "  ax = sns.distplot(df[kolom])"
   ]
  },
  {
   "cell_type": "markdown",
   "metadata": {},
   "source": [
    "---\n",
    "\n",
    "### 3.1 Normality Test Kolom *ID*"
   ]
  },
  {
   "cell_type": "code",
   "execution_count": 95,
   "metadata": {
    "colab": {
     "base_uri": "https://localhost:8080/",
     "height": 386
    },
    "id": "FHi8h6jj3Hlr",
    "outputId": "213629de-aac9-43d3-94e1-0bf6e0b5a307"
   },
   "outputs": [
    {
     "name": "stdout",
     "output_type": "stream",
     "text": [
      "alpha = 0.050\n",
      "stat = 317.444\n",
      "p_value = 0.000\n",
      "Result :\n",
      "id is not normally distributed\n",
      "\n"
     ]
    },
    {
     "data": {
      "text/markdown": [
       "id is not normally distributed"
      ],
      "text/plain": [
       "<IPython.core.display.Markdown object>"
      ]
     },
     "metadata": {},
     "output_type": "display_data"
    },
    {
     "data": {
      "image/png": "[encoded data removed]",
      "text/plain": [
       "<Figure size 432x288 with 1 Axes>"
      ]
     },
     "metadata": {
      "needs_background": "light"
     },
     "output_type": "display_data"
    }
   ],
   "source": [
    "normalityTest(\"id\")"
   ]
  },
  {
   "cell_type": "markdown",
   "metadata": {},
   "source": [
    "---\n",
    "\n",
    "### 3.2 Normality Test Kolom *Daerah*"
   ]
  },
  {
   "cell_type": "code",
   "execution_count": 96,
   "metadata": {
    "colab": {
     "base_uri": "https://localhost:8080/",
     "height": 386
    },
    "id": "FHi8h6jj3Hlr",
    "outputId": "213629de-aac9-43d3-94e1-0bf6e0b5a307"
   },
   "outputs": [
    {
     "name": "stdout",
     "output_type": "stream",
     "text": [
      "alpha = 0.050\n",
      "stat = 10.859\n",
      "p_value = 0.004\n",
      "Result :\n",
      "Daerah is not normally distributed\n",
      "\n"
     ]
    },
    {
     "data": {
      "text/markdown": [
       "Daerah is not normally distributed"
      ],
      "text/plain": [
       "<IPython.core.display.Markdown object>"
      ]
     },
     "metadata": {},
     "output_type": "display_data"
    },
    {
     "data": {
      "image/png": "[encoded data removed]",
      "text/plain": [
       "<Figure size 432x288 with 1 Axes>"
      ]
     },
     "metadata": {
      "needs_background": "light"
     },
     "output_type": "display_data"
    }
   ],
   "source": [
    "normalityTest(\"Daerah\")"
   ]
  },
  {
   "cell_type": "markdown",
   "metadata": {},
   "source": [
    "---\n",
    "\n",
    "### 3.3 Normality Test Kolom *SumbuUtama*"
   ]
  },
  {
   "cell_type": "code",
   "execution_count": 97,
   "metadata": {
    "colab": {
     "base_uri": "https://localhost:8080/",
     "height": 386
    },
    "id": "FHi8h6jj3Hlr",
    "outputId": "213629de-aac9-43d3-94e1-0bf6e0b5a307"
   },
   "outputs": [
    {
     "name": "stdout",
     "output_type": "stream",
     "text": [
      "alpha = 0.050\n",
      "stat = 95.120\n",
      "p_value = 0.000\n",
      "Result :\n",
      "SumbuUtama is not normally distributed\n",
      "\n"
     ]
    },
    {
     "data": {
      "text/markdown": [
       "SumbuUtama is not normally distributed"
      ],
      "text/plain": [
       "<IPython.core.display.Markdown object>"
      ]
     },
     "metadata": {},
     "output_type": "display_data"
    },
    {
     "data": {
      "image/png": "[encoded data removed]",
      "text/plain": [
       "<Figure size 432x288 with 1 Axes>"
      ]
     },
     "metadata": {
      "needs_background": "light"
     },
     "output_type": "display_data"
    }
   ],
   "source": [
    "normalityTest(\"SumbuUtama\")"
   ]
  },
  {
   "cell_type": "markdown",
   "metadata": {},
   "source": [
    "---\n",
    "\n",
    "### 3.4 Normality Test Kolom *SumbuKecil*"
   ]
  },
  {
   "cell_type": "code",
   "execution_count": 98,
   "metadata": {
    "colab": {
     "base_uri": "https://localhost:8080/",
     "height": 386
    },
    "id": "FHi8h6jj3Hlr",
    "outputId": "213629de-aac9-43d3-94e1-0bf6e0b5a307"
   },
   "outputs": [
    {
     "name": "stdout",
     "output_type": "stream",
     "text": [
      "alpha = 0.050\n",
      "stat = 3.698\n",
      "p_value = 0.157\n",
      "Result :\n",
      "SumbuKecil is normally distributed\n",
      "\n"
     ]
    },
    {
     "data": {
      "text/markdown": [
       "SumbuKecil is normally distributed"
      ],
      "text/plain": [
       "<IPython.core.display.Markdown object>"
      ]
     },
     "metadata": {},
     "output_type": "display_data"
    },
    {
     "data": {
      "image/png": "[encoded data removed]",
      "text/plain": [
       "<Figure size 432x288 with 1 Axes>"
      ]
     },
     "metadata": {
      "needs_background": "light"
     },
     "output_type": "display_data"
    }
   ],
   "source": [
    "normalityTest(\"SumbuKecil\")"
   ]
  },
  {
   "cell_type": "markdown",
   "metadata": {},
   "source": [
    "---\n",
    "\n",
    "### 3.5 Normality Test Kolom *Keunikan*"
   ]
  },
  {
   "cell_type": "code",
   "execution_count": 99,
   "metadata": {
    "colab": {
     "base_uri": "https://localhost:8080/",
     "height": 386
    },
    "id": "FHi8h6jj3Hlr",
    "outputId": "213629de-aac9-43d3-94e1-0bf6e0b5a307"
   },
   "outputs": [
    {
     "name": "stdout",
     "output_type": "stream",
     "text": [
      "alpha = 0.050\n",
      "stat = 158.617\n",
      "p_value = 0.000\n",
      "Result :\n",
      "Keunikan is not normally distributed\n",
      "\n"
     ]
    },
    {
     "data": {
      "text/markdown": [
       "Keunikan is not normally distributed"
      ],
      "text/plain": [
       "<IPython.core.display.Markdown object>"
      ]
     },
     "metadata": {},
     "output_type": "display_data"
    },
    {
     "data": {
      "image/png": "[encoded data removed]",
      "text/plain": [
       "<Figure size 432x288 with 1 Axes>"
      ]
     },
     "metadata": {
      "needs_background": "light"
     },
     "output_type": "display_data"
    }
   ],
   "source": [
    "normalityTest(\"Keunikan\")"
   ]
  },
  {
   "cell_type": "markdown",
   "metadata": {},
   "source": [
    "---\n",
    "\n",
    "### 3.6 Normality Test Kolom *AreaBulatan*"
   ]
  },
  {
   "cell_type": "code",
   "execution_count": 100,
   "metadata": {
    "colab": {
     "base_uri": "https://localhost:8080/",
     "height": 386
    },
    "id": "FHi8h6jj3Hlr",
    "outputId": "213629de-aac9-43d3-94e1-0bf6e0b5a307"
   },
   "outputs": [
    {
     "name": "stdout",
     "output_type": "stream",
     "text": [
      "alpha = 0.050\n",
      "stat = 10.739\n",
      "p_value = 0.005\n",
      "Result :\n",
      "AreaBulatan is not normally distributed\n",
      "\n"
     ]
    },
    {
     "data": {
      "text/markdown": [
       "AreaBulatan is not normally distributed"
      ],
      "text/plain": [
       "<IPython.core.display.Markdown object>"
      ]
     },
     "metadata": {},
     "output_type": "display_data"
    },
    {
     "data": {
      "image/png": "[encoded data removed]",
      "text/plain": [
       "<Figure size 432x288 with 1 Axes>"
      ]
     },
     "metadata": {
      "needs_background": "light"
     },
     "output_type": "display_data"
    }
   ],
   "source": [
    "normalityTest(\"AreaBulatan\")"
   ]
  },
  {
   "cell_type": "markdown",
   "metadata": {},
   "source": [
    "---\n",
    "\n",
    "### 3.7 Normality Test Kolom *Diameter*"
   ]
  },
  {
   "cell_type": "code",
   "execution_count": 101,
   "metadata": {
    "colab": {
     "base_uri": "https://localhost:8080/",
     "height": 386
    },
    "id": "FHi8h6jj3Hlr",
    "outputId": "213629de-aac9-43d3-94e1-0bf6e0b5a307"
   },
   "outputs": [
    {
     "name": "stdout",
     "output_type": "stream",
     "text": [
      "alpha = 0.050\n",
      "stat = 7.446\n",
      "p_value = 0.024\n",
      "Result :\n",
      "Diameter is not normally distributed\n",
      "\n"
     ]
    },
    {
     "data": {
      "text/markdown": [
       "Diameter is not normally distributed"
      ],
      "text/plain": [
       "<IPython.core.display.Markdown object>"
      ]
     },
     "metadata": {},
     "output_type": "display_data"
    },
    {
     "data": {
      "image/png": "[encoded data removed]",
      "text/plain": [
       "<Figure size 432x288 with 1 Axes>"
      ]
     },
     "metadata": {
      "needs_background": "light"
     },
     "output_type": "display_data"
    }
   ],
   "source": [
    "normalityTest(\"Diameter\")"
   ]
  },
  {
   "cell_type": "markdown",
   "metadata": {},
   "source": [
    "---\n",
    "\n",
    "### 3.8 Normality Test Kolom *KadarAir*"
   ]
  },
  {
   "cell_type": "code",
   "execution_count": 102,
   "metadata": {
    "colab": {
     "base_uri": "https://localhost:8080/",
     "height": 386
    },
    "id": "FHi8h6jj3Hlr",
    "outputId": "213629de-aac9-43d3-94e1-0bf6e0b5a307"
   },
   "outputs": [
    {
     "name": "stdout",
     "output_type": "stream",
     "text": [
      "alpha = 0.050\n",
      "stat = 48.756\n",
      "p_value = 0.000\n",
      "Result :\n",
      "KadarAir is not normally distributed\n",
      "\n"
     ]
    },
    {
     "data": {
      "text/markdown": [
       "KadarAir is not normally distributed"
      ],
      "text/plain": [
       "<IPython.core.display.Markdown object>"
      ]
     },
     "metadata": {},
     "output_type": "display_data"
    },
    {
     "data": {
      "image/png": "[encoded data removed]",
      "text/plain": [
       "<Figure size 432x288 with 1 Axes>"
      ]
     },
     "metadata": {
      "needs_background": "light"
     },
     "output_type": "display_data"
    }
   ],
   "source": [
    "normalityTest(\"KadarAir\")"
   ]
  },
  {
   "cell_type": "markdown",
   "metadata": {},
   "source": [
    "---\n",
    "\n",
    "### 3.9 Normality Test Kolom *Keliling*"
   ]
  },
  {
   "cell_type": "code",
   "execution_count": 103,
   "metadata": {
    "colab": {
     "base_uri": "https://localhost:8080/",
     "height": 386
    },
    "id": "FHi8h6jj3Hlr",
    "outputId": "213629de-aac9-43d3-94e1-0bf6e0b5a307"
   },
   "outputs": [
    {
     "name": "stdout",
     "output_type": "stream",
     "text": [
      "alpha = 0.050\n",
      "stat = 67.465\n",
      "p_value = 0.000\n",
      "Result :\n",
      "Keliling is not normally distributed\n",
      "\n"
     ]
    },
    {
     "data": {
      "text/markdown": [
       "Keliling is not normally distributed"
      ],
      "text/plain": [
       "<IPython.core.display.Markdown object>"
      ]
     },
     "metadata": {},
     "output_type": "display_data"
    },
    {
     "data": {
      "image/png": "[encoded data removed]",
      "text/plain": [
       "<Figure size 432x288 with 1 Axes>"
      ]
     },
     "metadata": {
      "needs_background": "light"
     },
     "output_type": "display_data"
    }
   ],
   "source": [
    "normalityTest(\"Keliling\")"
   ]
  },
  {
   "cell_type": "markdown",
   "metadata": {},
   "source": [
    "---\n",
    "\n",
    "### 3.10 Normality Test Kolom *Ransum*"
   ]
  },
  {
   "cell_type": "code",
   "execution_count": 104,
   "metadata": {
    "colab": {
     "base_uri": "https://localhost:8080/",
     "height": 386
    },
    "id": "FHi8h6jj3Hlr",
    "outputId": "213629de-aac9-43d3-94e1-0bf6e0b5a307"
   },
   "outputs": [
    {
     "name": "stdout",
     "output_type": "stream",
     "text": [
      "alpha = 0.050\n",
      "stat = 37.060\n",
      "p_value = 0.000\n",
      "Result :\n",
      "Ransum is not normally distributed\n",
      "\n"
     ]
    },
    {
     "data": {
      "text/markdown": [
       "Ransum is not normally distributed"
      ],
      "text/plain": [
       "<IPython.core.display.Markdown object>"
      ]
     },
     "metadata": {},
     "output_type": "display_data"
    },
    {
     "data": {
      "image/png": "[encoded data removed]",
      "text/plain": [
       "<Figure size 432x288 with 1 Axes>"
      ]
     },
     "metadata": {
      "needs_background": "light"
     },
     "output_type": "display_data"
    }
   ],
   "source": [
    "normalityTest(\"Ransum\")"
   ]
  },
  {
   "cell_type": "markdown",
   "metadata": {},
   "source": [
    "---\n",
    "\n",
    "### 3.11 Normality Test Kolom *Bulatan*"
   ]
  },
  {
   "cell_type": "code",
   "execution_count": 105,
   "metadata": {
    "colab": {
     "base_uri": "https://localhost:8080/",
     "height": 386
    },
    "id": "FHi8h6jj3Hlr",
    "outputId": "213629de-aac9-43d3-94e1-0bf6e0b5a307"
   },
   "outputs": [
    {
     "name": "stdout",
     "output_type": "stream",
     "text": [
      "alpha = 0.050\n",
      "stat = 442.119\n",
      "p_value = 0.000\n",
      "Result :\n",
      "Bulatan is not normally distributed\n",
      "\n"
     ]
    },
    {
     "data": {
      "text/markdown": [
       "Bulatan is not normally distributed"
      ],
      "text/plain": [
       "<IPython.core.display.Markdown object>"
      ]
     },
     "metadata": {},
     "output_type": "display_data"
    },
    {
     "data": {
      "image/png": "[encoded data removed]",
      "text/plain": [
       "<Figure size 432x288 with 1 Axes>"
      ]
     },
     "metadata": {
      "needs_background": "light"
     },
     "output_type": "display_data"
    }
   ],
   "source": [
    "normalityTest(\"Bulatan\")"
   ]
  },
  {
   "cell_type": "markdown",
   "metadata": {},
   "source": [
    "---\n",
    "\n",
    "### 3.12 Normality Test Kolom *Kelas*"
   ]
  },
  {
   "cell_type": "code",
   "execution_count": 106,
   "metadata": {
    "colab": {
     "base_uri": "https://localhost:8080/",
     "height": 386
    },
    "id": "FHi8h6jj3Hlr",
    "outputId": "213629de-aac9-43d3-94e1-0bf6e0b5a307"
   },
   "outputs": [
    {
     "name": "stdout",
     "output_type": "stream",
     "text": [
      "alpha = 0.050\n",
      "stat = 2069.995\n",
      "p_value = 0.000\n",
      "Result :\n",
      "Kelas is not normally distributed\n",
      "\n"
     ]
    },
    {
     "data": {
      "text/markdown": [
       "Kelas is not normally distributed"
      ],
      "text/plain": [
       "<IPython.core.display.Markdown object>"
      ]
     },
     "metadata": {},
     "output_type": "display_data"
    },
    {
     "data": {
      "image/png": "[encoded data removed]",
      "text/plain": [
       "<Figure size 432x288 with 1 Axes>"
      ]
     },
     "metadata": {
      "needs_background": "light"
     },
     "output_type": "display_data"
    }
   ],
   "source": [
    "normalityTest(\"Kelas\")"
   ]
  },
  {
   "cell_type": "markdown",
   "metadata": {},
   "source": [
    "---"
   ]
  },
  {
   "cell_type": "markdown",
   "metadata": {},
   "source": [
    "## Soal 4 - Tes Hipotesis 1 Sampel\n",
    "\n",
    "### Langkah Testing\n",
    "1. Tentukan Hipotesis nol ($H_0$: θ = $θ_0$), dimana θ bisa berupa μ, σ2, p, atau data lain berdistribusi tertentu (normal, binomial, dsc.).\n",
    "2. Pilih hipotesis alternatif $H_1$ salah dari dari θ > $θ_0$, θ < $θ_0$, atau θ ≠ $θ_0$.\n",
    "3. Tentukan tingkat signifikan α.\n",
    "4. Tentukan uji statistik yang sesuai dan tentukan daerah kritis.\n",
    "5. Hitung nilai uji statistik dari data sample. Hitung p-value sesuai dengan uji statistik yang digunakan.\n",
    "6. Ambil keputusan dengan TOLAK $H_0$ jika nilai uji terletak di daerah kritis atau dengan tessignifikan, TOLAK $H_0$ jika p-value lebih kecil dibanding tingkat signifikansi α yang diinginkan"
   ]
  },
  {
   "cell_type": "code",
   "execution_count": 107,
   "metadata": {},
   "outputs": [],
   "source": [
    "#Rumus z-test\n",
    "def ztest(samp_mean, pop_mean, std, n):\n",
    "    return (samp_mean - pop_mean)/(std/math.sqrt(n))\n",
    "\n",
    "#Rumus t-test\n",
    "def ttest(samp_mean, pop_mean, s_std, n):\n",
    "    return (samp_mean - pop_mean)/(s_std/math.sqrt(n))\n",
    "\n",
    "#Rumus Binomial didekati Normal\n",
    "def binomialnormal(phat, p0, q0, n):\n",
    "    return (phat - p0)/math.sqrt((p0*q0)/n)"
   ]
  },
  {
   "cell_type": "markdown",
   "metadata": {},
   "source": [
    "---"
   ]
  },
  {
   "cell_type": "markdown",
   "metadata": {},
   "source": [
    "### 4.1 Nilai rata-rata Daerah di atas 4700"
   ]
  },
  {
   "cell_type": "code",
   "execution_count": 108,
   "metadata": {},
   "outputs": [
    {
     "data": {
      "text/markdown": [
       "### Visualisasi Boxplot"
      ],
      "text/plain": [
       "<IPython.core.display.Markdown object>"
      ]
     },
     "metadata": {},
     "output_type": "display_data"
    },
    {
     "data": {
      "image/png": "[encoded data removed]",
      "text/plain": [
       "<Figure size 432x288 with 1 Axes>"
      ]
     },
     "metadata": {
      "needs_background": "light"
     },
     "output_type": "display_data"
    }
   ],
   "source": [
    "df.boxplot(column=[\"Daerah\"])\n",
    "display(Markdown(\"### Visualisasi Boxplot\"))"
   ]
  },
  {
   "cell_type": "markdown",
   "metadata": {},
   "source": [
    "**1. Menentukan hipotesis nol**<br>\n",
    "&nbsp;&nbsp;&nbsp;&nbsp;$H_0$: $µ_{Daerah}$ = 4700<br>\n",
    "\n",
    "**2. Menentukan hipotesis alternatif**<br>\n",
    "&nbsp;&nbsp;&nbsp;&nbsp;$H_1$: $µ_{Daerah}$ > 4700<br>\n",
    "\n",
    "**3. Menentukan tingkat signifikan**<br>\n",
    "&nbsp;&nbsp;&nbsp;&nbsp;α = 0.05<br>\n",
    "\n",
    "**4. Menentukan daerah kritis**<br>\n",
    "&nbsp;&nbsp;&nbsp;&nbsp;Jenis uji statistik: One-tailed z-test<br>\n",
    "&nbsp;&nbsp;&nbsp;&nbsp;Jenis uji statistik ini dipilih karena n>30 dan distribusi data dapat dianggap mengikuti distribusi normal.<br>\n",
    "&nbsp;&nbsp;&nbsp;&nbsp;Daerah kritis: z > 1.645<br>\n",
    "\n",
    "**5. Hitung nilai uji statistik dan p-value**<br>\n",
    "&nbsp;&nbsp;&nbsp;&nbsp;$\\bar{x} = 4801.246000$<br>\n",
    "&nbsp;&nbsp;&nbsp;&nbsp;$\\sigma = 986.395491$<br>\n",
    "&nbsp;&nbsp;&nbsp;&nbsp;$\\\\n = 500$<br>\n",
    "&nbsp;&nbsp;&nbsp;&nbsp;$z = \\Large\\frac{\\bar{x}-\\mu_0}{\\sigma / \\sqrt{n}} \\normalsize = 2.295153824252517 \\approx 2.3$<br><br>\n",
    "&nbsp;&nbsp;&nbsp;&nbsp;$p-value = 0.010724$<br>\n",
    "\n",
    "**6. Penarikan kesimpulan**<br>\n",
    "&nbsp;&nbsp;&nbsp;&nbsp;**TOLAK $H_0$** karena z berada pada daerah kritis dan didukung oleh hasil p-value yang lebih kecil dari nilai α yang telah ditentukan.<br> \n",
    "&nbsp;&nbsp;&nbsp;&nbsp;Maka, dapat disimpulkan bahwa nilai rata-rata daerah lebih besar dari 4700.<br><br>\n"
   ]
  },
  {
   "cell_type": "markdown",
   "metadata": {},
   "source": [
    "#### Perhitungan uji statistik 4.1"
   ]
  },
  {
   "cell_type": "code",
   "execution_count": 109,
   "metadata": {},
   "outputs": [
    {
     "name": "stdout",
     "output_type": "stream",
     "text": [
      "z = 2.295153824252517\n"
     ]
    }
   ],
   "source": [
    "#Perhitungan uji statistik 4.1\n",
    "smean = df[\"Daerah\"].mean()\n",
    "pmean = 4700\n",
    "std = df[\"Daerah\"].std()\n",
    "n = 500\n",
    "\n",
    "hasil = ztest(smean, pmean, std, n)\n",
    "print('z = ' + str(hasil))"
   ]
  },
  {
   "cell_type": "markdown",
   "metadata": {},
   "source": [
    "---"
   ]
  },
  {
   "cell_type": "markdown",
   "metadata": {},
   "source": [
    "### 4.2 Nilai Rata-rata Sumbu Utama tidak sama dengan 116"
   ]
  },
  {
   "cell_type": "code",
   "execution_count": 110,
   "metadata": {},
   "outputs": [
    {
     "data": {
      "text/markdown": [
       "### Visualisasi Boxplot"
      ],
      "text/plain": [
       "<IPython.core.display.Markdown object>"
      ]
     },
     "metadata": {},
     "output_type": "display_data"
    },
    {
     "data": {
      "image/png": "[encoded data removed]",
      "text/plain": [
       "<Figure size 432x288 with 1 Axes>"
      ]
     },
     "metadata": {
      "needs_background": "light"
     },
     "output_type": "display_data"
    }
   ],
   "source": [
    "df.boxplot(column=[\"SumbuUtama\"])\n",
    "display(Markdown(\"### Visualisasi Boxplot\"))"
   ]
  },
  {
   "cell_type": "markdown",
   "metadata": {},
   "source": [
    "**1. Menentukan hipotesis nol**<br>\n",
    "&nbsp;&nbsp;&nbsp;&nbsp;$H_0$: $µ_{SumbuUtama}$ = 116<br>\n",
    "\n",
    "**2. Menentukan hipotesis alternatif**<br>\n",
    "&nbsp;&nbsp;&nbsp;&nbsp;$H_1$: $µ_{SumbuUtama}$ ≠ 116<br>\n",
    "\n",
    "**3. Menentukan tingkat signifikan**<br>\n",
    "&nbsp;&nbsp;&nbsp;&nbsp;α = 0.05<br>\n",
    "\n",
    "**4. Menentukan daerah kritis**<br>\n",
    "&nbsp;&nbsp;&nbsp;&nbsp;Jenis uji statistik: Two-tailed Z-test<br>\n",
    "&nbsp;&nbsp;&nbsp;&nbsp;Jenis uji statistik ini dipilih karena n>30 dan distribusi data dapat dianggap mengikuti distribusi normal.<br>\n",
    "&nbsp;&nbsp;&nbsp;&nbsp;Daerah kritis: z < -1.96 atau z > 1.96<br>\n",
    "\n",
    "**5. Hitung nilai uji statistik dan p-value**<br>\n",
    "&nbsp;&nbsp;&nbsp;&nbsp;$\\bar{x} = 116.045171$<br>\n",
    "&nbsp;&nbsp;&nbsp;&nbsp;$\\sigma = 18.282626$<br>\n",
    "&nbsp;&nbsp;&nbsp;&nbsp;$\\\\n = 500$<br>\n",
    "&nbsp;&nbsp;&nbsp;&nbsp;$z = \\Large\\frac{\\bar{x}-\\mu_0}{\\sigma / \\sqrt{n}} \\normalsize = 0.055247$<br><br>\n",
    "&nbsp;&nbsp;&nbsp;&nbsp;$p-value = 2P(z > 0.055247) = 2*0.477989$<br>\n",
    "&nbsp;&nbsp;&nbsp;&nbsp;$p-value = 0.955979 $<br>\n",
    "\n",
    "**6. Penarikan kesimpulan**<br>\n",
    "&nbsp;&nbsp;&nbsp;&nbsp;**TERIMA $H_0$** karena z tidak berada pada daerah kritis dan didukung oleh hasil p-value yang lebih besar dari nilai α yang telah ditentukan.<br> \n",
    "&nbsp;&nbsp;&nbsp;&nbsp;Maka, dapat disimpulkan bahwa nilai rata-rata sumbu utama sama dengan 116.<br><br>\n"
   ]
  },
  {
   "cell_type": "markdown",
   "metadata": {},
   "source": [
    "#### Perhitungan uji statistik 4.2"
   ]
  },
  {
   "cell_type": "code",
   "execution_count": 111,
   "metadata": {},
   "outputs": [
    {
     "name": "stdout",
     "output_type": "stream",
     "text": [
      "z = 0.055247123267335795\n"
     ]
    }
   ],
   "source": [
    "#Perhitungan uji statistik 4.2\n",
    "smean = df[\"SumbuUtama\"].mean()\n",
    "pmean = 116\n",
    "std = df[\"SumbuUtama\"].std()\n",
    "n = 500\n",
    "\n",
    "hasil = ztest(smean, pmean, std, n)\n",
    "print('z = ' + str(hasil))"
   ]
  },
  {
   "cell_type": "markdown",
   "metadata": {},
   "source": [
    "---"
   ]
  },
  {
   "cell_type": "markdown",
   "metadata": {},
   "source": [
    "### 4.3 Nilai Rata-rata 20 baris pertama kolom Sumbu Kecil bukan 50"
   ]
  },
  {
   "cell_type": "code",
   "execution_count": 112,
   "metadata": {},
   "outputs": [
    {
     "data": {
      "text/markdown": [
       "### Visualisasi Boxplot"
      ],
      "text/plain": [
       "<IPython.core.display.Markdown object>"
      ]
     },
     "metadata": {},
     "output_type": "display_data"
    },
    {
     "data": {
      "image/png": "[encoded data removed]",
      "text/plain": [
       "<Figure size 432x288 with 1 Axes>"
      ]
     },
     "metadata": {
      "needs_background": "light"
     },
     "output_type": "display_data"
    }
   ],
   "source": [
    "df[:20].boxplot(column=[\"SumbuKecil\"])\n",
    "display(Markdown(\"### Visualisasi Boxplot\"))"
   ]
  },
  {
   "cell_type": "code",
   "execution_count": 113,
   "metadata": {},
   "outputs": [
    {
     "data": {
      "text/markdown": [
       "### Deskripsi statistik"
      ],
      "text/plain": [
       "<IPython.core.display.Markdown object>"
      ]
     },
     "metadata": {},
     "output_type": "display_data"
    },
    {
     "data": {
      "text/html": [
       "<div>\n",
       "<style scoped>\n",
       "    .dataframe tbody tr th:only-of-type {\n",
       "        vertical-align: middle;\n",
       "    }\n",
       "\n",
       "    .dataframe tbody tr th {\n",
       "        vertical-align: top;\n",
       "    }\n",
       "\n",
       "    .dataframe thead th {\n",
       "        text-align: right;\n",
       "    }\n",
       "</style>\n",
       "<table border=\"1\" class=\"dataframe\">\n",
       "  <thead>\n",
       "    <tr style=\"text-align: right;\">\n",
       "      <th></th>\n",
       "      <th>SumbuKecil</th>\n",
       "    </tr>\n",
       "  </thead>\n",
       "  <tbody>\n",
       "    <tr>\n",
       "      <th>count</th>\n",
       "      <td>20.000000</td>\n",
       "    </tr>\n",
       "    <tr>\n",
       "      <th>mean</th>\n",
       "      <td>54.887276</td>\n",
       "    </tr>\n",
       "    <tr>\n",
       "      <th>std</th>\n",
       "      <td>3.373880</td>\n",
       "    </tr>\n",
       "    <tr>\n",
       "      <th>min</th>\n",
       "      <td>49.457349</td>\n",
       "    </tr>\n",
       "    <tr>\n",
       "      <th>25%</th>\n",
       "      <td>52.210008</td>\n",
       "    </tr>\n",
       "    <tr>\n",
       "      <th>50%</th>\n",
       "      <td>55.855814</td>\n",
       "    </tr>\n",
       "    <tr>\n",
       "      <th>75%</th>\n",
       "      <td>57.244755</td>\n",
       "    </tr>\n",
       "    <tr>\n",
       "      <th>max</th>\n",
       "      <td>61.312148</td>\n",
       "    </tr>\n",
       "  </tbody>\n",
       "</table>\n",
       "</div>"
      ],
      "text/plain": [
       "       SumbuKecil\n",
       "count   20.000000\n",
       "mean    54.887276\n",
       "std      3.373880\n",
       "min     49.457349\n",
       "25%     52.210008\n",
       "50%     55.855814\n",
       "75%     57.244755\n",
       "max     61.312148"
      ]
     },
     "execution_count": 113,
     "metadata": {},
     "output_type": "execute_result"
    }
   ],
   "source": [
    "display(Markdown(\"### Deskripsi statistik\"))\n",
    "pd.DataFrame(df[:20][\"SumbuKecil\"].describe())"
   ]
  },
  {
   "cell_type": "markdown",
   "metadata": {},
   "source": [
    "**1. Menentukan hipotesis nol**<br>\n",
    "&nbsp;&nbsp;&nbsp;&nbsp;$H_0$: $µ_{SumbuKecil}$ = 50<br>\n",
    "\n",
    "**2. Menentukan hipotesis alternatif**<br>\n",
    "&nbsp;&nbsp;&nbsp;&nbsp;$H_1$: $µ_{SumbuKecil}$ ≠ 50<br>\n",
    "\n",
    "**3. Menentukan tingkat signifikan**<br>\n",
    "&nbsp;&nbsp;&nbsp;&nbsp;α = 0.05<br>\n",
    "\n",
    "**4. Menentukan daerah kritis**<br>\n",
    "&nbsp;&nbsp;&nbsp;&nbsp;Jenis uji statistik: Two-tailed t-test<br>\n",
    "&nbsp;&nbsp;&nbsp;&nbsp;Jenis uji statistik ini dipilih karena n<30.<br>\n",
    "&nbsp;&nbsp;&nbsp;&nbsp;Daerah kritis: t < -1.729 atau t > 1.729<br>\n",
    "\n",
    "**5. Hitung nilai uji statistik dan p-value**<br>\n",
    "&nbsp;&nbsp;&nbsp;&nbsp;$\\bar{x} = 54.887276260499995$<br>\n",
    "&nbsp;&nbsp;&nbsp;&nbsp;$\\sigma = 3.373879898276029$<br>\n",
    "&nbsp;&nbsp;&nbsp;&nbsp;$\\\\n = 20$<br>\n",
    "&nbsp;&nbsp;&nbsp;&nbsp;$t = \\Large\\frac{\\bar{x}-\\mu_0}{s / \\sqrt{n}} \\normalsize = 6.478168916968886$<br><br>\n",
    "&nbsp;&nbsp;&nbsp;&nbsp;$p-value = 3.302 × 10^{-6} $<br>\n",
    "\n",
    "**6. Penarikan kesimpulan**<br>\n",
    "&nbsp;&nbsp;&nbsp;&nbsp;**TOLAK $H_0$** karena t berada pada daerah kritis dan didukung oleh hasil p-value yang lebih kecil dari nilai α/2 yang telah ditentukan.<br> \n",
    "&nbsp;&nbsp;&nbsp;&nbsp;Maka, dapat disimpulkan bahwa nilai rata-rata sumbu kecil tidak sama dengan 50.<br><br>\n"
   ]
  },
  {
   "cell_type": "markdown",
   "metadata": {},
   "source": [
    "#### Perhitungan uji statistik 4.3"
   ]
  },
  {
   "cell_type": "code",
   "execution_count": 114,
   "metadata": {
    "colab": {
     "base_uri": "https://localhost:8080/"
    },
    "id": "oiZJL9Un6Rpt",
    "outputId": "3316ca3f-bbc4-4c52-d5e1-3803a72e1cad"
   },
   "outputs": [
    {
     "name": "stdout",
     "output_type": "stream",
     "text": [
      "t = 6.478168916968886\n"
     ]
    }
   ],
   "source": [
    "smean = df[:20][\"SumbuKecil\"].mean()\n",
    "pmean = 50\n",
    "sstd = df[:20][\"SumbuKecil\"].std()\n",
    "n = 20\n",
    "\n",
    "hasil = ttest(smean, pmean, sstd, n)\n",
    "print('t = ' + str(hasil))"
   ]
  },
  {
   "cell_type": "markdown",
   "metadata": {},
   "source": [
    "---"
   ]
  },
  {
   "cell_type": "markdown",
   "metadata": {},
   "source": [
    "### 4.4 Proporsi nilai Diameter yang lebih dari 85, adalah tidak sama dengan 15%"
   ]
  },
  {
   "cell_type": "code",
   "execution_count": 115,
   "metadata": {},
   "outputs": [
    {
     "data": {
      "text/markdown": [
       "### Visualisasi Boxplot"
      ],
      "text/plain": [
       "<IPython.core.display.Markdown object>"
      ]
     },
     "metadata": {},
     "output_type": "display_data"
    },
    {
     "data": {
      "image/png": "[encoded data removed]",
      "text/plain": [
       "<Figure size 432x288 with 1 Axes>"
      ]
     },
     "metadata": {
      "needs_background": "light"
     },
     "output_type": "display_data"
    }
   ],
   "source": [
    "df.boxplot(column=[\"Diameter\"])\n",
    "display(Markdown(\"### Visualisasi Boxplot\"))"
   ]
  },
  {
   "cell_type": "markdown",
   "metadata": {},
   "source": [
    "**1. Menentukan hipotesis nol**<br>\n",
    "&nbsp;&nbsp;&nbsp;&nbsp;$H_0$: $P(X_{Diameter} > 85)$ = 0.15<br>\n",
    "\n",
    "**2. Menentukan hipotesis alternatif**<br>\n",
    "&nbsp;&nbsp;&nbsp;&nbsp;$H_1$: $P(X_{Diameter} > 85)$ ≠ 0.15<br>\n",
    "\n",
    "**3. Menentukan tingkat signifikan**<br>\n",
    "&nbsp;&nbsp;&nbsp;&nbsp;α = 0.05<br>\n",
    "\n",
    "**4. Menentukan daerah kritis**<br>\n",
    "&nbsp;&nbsp;&nbsp;&nbsp;Jenis uji statistik: Two-tailed binomial didekati normal<br>\n",
    "&nbsp;&nbsp;&nbsp;&nbsp;Jenis uji statistik ini dipilih karena nilai statistik yang akan diuji adalah proporsi dan N besar, sehingga dapat diberlakukan uji binomial diedkati normal.<br>\n",
    "&nbsp;&nbsp;&nbsp;&nbsp;Daerah kritis: z < -1.96 atau z > 1.96<br>\n",
    "\n",
    "**5. Hitung nilai uji statistik dan p-value**<br>\n",
    "&nbsp;&nbsp;&nbsp;&nbsp;$\\hat{p} = 1 - 0.8133 = 0.1867$<br>\n",
    "&nbsp;&nbsp;&nbsp;&nbsp;$\\\\p_0 = 0.15$<br>\n",
    "&nbsp;&nbsp;&nbsp;&nbsp;$\\\\q_0 = 0.85$<br>\n",
    "&nbsp;&nbsp;&nbsp;&nbsp;$\\\\n = 500$<br>\n",
    "&nbsp;&nbsp;&nbsp;&nbsp;$z = \\Large\\frac{\\hat{p} - p_{\\normalsize0}}{\\sqrt{\\frac{p_{\\normalsize0}q_{\\normalsize0}}{n}}} \\normalsize= 2.29824 $<br>\n",
    "&nbsp;&nbsp;&nbsp;&nbsp;$p-value = 1 - 0.9893 = 0.0107 $<br>\n",
    "\n",
    "**6. Penarikan kesimpulan**<br>\n",
    "&nbsp;&nbsp;&nbsp;&nbsp;**TOLAK $H_0$** karena z berada pada daerah kritis dan didukung oleh hasil p-value yang lebih kecil dari nilai α/2 yang telah ditentukan.<br> \n",
    "&nbsp;&nbsp;&nbsp;&nbsp;Maka, dapat disimpulkan bahwa proposi nilai Diameter yang lebih dari 85 tidak sama dengan 15%.<br><br>\n"
   ]
  },
  {
   "cell_type": "markdown",
   "metadata": {},
   "source": [
    "#### Perhitungan uji statistik 4.4"
   ]
  },
  {
   "cell_type": "code",
   "execution_count": 116,
   "metadata": {},
   "outputs": [
    {
     "name": "stdout",
     "output_type": "stream",
     "text": [
      "z = 0.8972274123209903 ≈ 0.89\n",
      "hasil  = 2.298243148282499\n"
     ]
    }
   ],
   "source": [
    "smean = df[\"Diameter\"].mean()\n",
    "sstd = df[\"Diameter\"].std()\n",
    "zhat = (85 - smean)/sstd\n",
    "print(\"z = \" + str(zhat) + \" ≈ 0.89\")\n",
    "#Dari tabel distribusi normal, didapatkan bahwa P(Z > 0.89) = 1 - 0.8133 = 0.1867\n",
    "phat = 0.1867\n",
    "hasil = binomialnormal(phat, 0.15, 0.85, 500)\n",
    "print(\"hasil  = \" + str(hasil))\n"
   ]
  },
  {
   "cell_type": "markdown",
   "metadata": {},
   "source": [
    "---"
   ]
  },
  {
   "cell_type": "markdown",
   "metadata": {
    "id": "Zod25v11omKn"
   },
   "source": [
    "### 4.5 Proporsi nilai Keliling yang kurang dari 100, adalah kurang dari 5%"
   ]
  },
  {
   "cell_type": "code",
   "execution_count": 117,
   "metadata": {},
   "outputs": [
    {
     "data": {
      "text/markdown": [
       "### Visualisasi Boxplot"
      ],
      "text/plain": [
       "<IPython.core.display.Markdown object>"
      ]
     },
     "metadata": {},
     "output_type": "display_data"
    },
    {
     "data": {
      "image/png": "[encoded data removed]",
      "text/plain": [
       "<Figure size 432x288 with 1 Axes>"
      ]
     },
     "metadata": {
      "needs_background": "light"
     },
     "output_type": "display_data"
    }
   ],
   "source": [
    "df.boxplot(column=[\"Keliling\"])\n",
    "display(Markdown(\"### Visualisasi Boxplot\"))"
   ]
  },
  {
   "cell_type": "markdown",
   "metadata": {},
   "source": [
    "**1. Menentukan hipotesis nol**<br>\n",
    "&nbsp;&nbsp;&nbsp;&nbsp;$H_0$: $P(X_{Keliling} < 100)$ = 0.05<br>\n",
    "\n",
    "**2. Menentukan hipotesis alternatif**<br>\n",
    "&nbsp;&nbsp;&nbsp;&nbsp;$H_1$: $P(X_{Keliling} > 100)$ < 0.05<br>\n",
    "\n",
    "**3. Menentukan tingkat signifikan**<br>\n",
    "&nbsp;&nbsp;&nbsp;&nbsp;α = 0.05<br>\n",
    "\n",
    "**4. Menentukan daerah kritis**<br>\n",
    "&nbsp;&nbsp;&nbsp;&nbsp;Jenis uji statistik: One-tailed binomial didekati normal<br>\n",
    "&nbsp;&nbsp;&nbsp;&nbsp;Jenis uji statistik ini dipilih karena nilai statistik yang akan diuji adalah proporsi dan N besar, sehingga dapat diberlakukan uji binomial diedkati normal.<br>\n",
    "&nbsp;&nbsp;&nbsp;&nbsp;Daerah kritis: z < -1.645<br>\n",
    "\n",
    "**5. Hitung nilai uji statistik dan p-value**<br>\n",
    "&nbsp;&nbsp;&nbsp;&nbsp;$\\hat{p} = 5.85 × 10^{-7}$<br>\n",
    "&nbsp;&nbsp;&nbsp;&nbsp;$\\\\p_0 = 0.05$<br>\n",
    "&nbsp;&nbsp;&nbsp;&nbsp;$\\\\q_0 = 0.95$<br>\n",
    "&nbsp;&nbsp;&nbsp;&nbsp;$\\\\n = 500$<br>\n",
    "&nbsp;&nbsp;&nbsp;&nbsp;$z = \\Large\\frac{\\hat{p} - p_{\\normalsize0}}{\\sqrt{\\frac{p_{\\normalsize0}q_{\\normalsize0}}{n}}} \\normalsize= -5.12983 $<br>\n",
    "&nbsp;&nbsp;&nbsp;&nbsp;$p-value = 1.4526 × 10^{-7} $<br>\n",
    "\n",
    "**6. Penarikan kesimpulan**<br>\n",
    "&nbsp;&nbsp;&nbsp;&nbsp;**TOLAK $H_0$** karena z berada pada daerah kritis dan didukung oleh hasil p-value yang lebih kecil dari nilai α/2 yang telah ditentukan.<br> \n",
    "&nbsp;&nbsp;&nbsp;&nbsp;Maka, dapat disimpulkan bahwa proposi nilai Keliling yang kurang dari 100 kurang dari 5%.<br><br>\n"
   ]
  },
  {
   "cell_type": "markdown",
   "metadata": {},
   "source": [
    "#### Perhitungan uji statistik 4.5"
   ]
  },
  {
   "cell_type": "code",
   "execution_count": 118,
   "metadata": {
    "id": "p8AAf8EpuA12"
   },
   "outputs": [
    {
     "name": "stdout",
     "output_type": "stream",
     "text": [
      "z = -4.860794679125902\n",
      "hasil  = -5.129831740692174\n"
     ]
    }
   ],
   "source": [
    "smean = df[\"Keliling\"].mean()\n",
    "sstd = df[\"Keliling\"].std()\n",
    "zhat = (100 - smean)/sstd\n",
    "print(\"z = \" + str(zhat))\n",
    "#Didapatkan bahwa P(Z > -4.8607) = 5.85e-7\n",
    "phat = 5.85*(10**(-7))\n",
    "hasil = binomialnormal(phat, 0.05, 0.95, 500)\n",
    "print(\"hasil  = \" + str(hasil))\n"
   ]
  },
  {
   "cell_type": "markdown",
   "metadata": {},
   "source": [
    "---"
   ]
  },
  {
   "cell_type": "markdown",
   "metadata": {},
   "source": [
    "## Soal 5 - Tes Hipotesis 2 Sampel\n",
    "\n",
    "### Langkah Testing\n",
    "1. Tentukan Hipotesis nol ($H_0$: θ = $θ_0$), dimana θ bisa berupa μ, σ2, p, atau data lain berdistribusi tertentu (normal, binomial, dsc.).\n",
    "2. Pilih hipotesis alternatif $H_1$ salah dari dari θ > $θ_0$, θ < $θ_0$, atau θ ≠ $θ_0$.\n",
    "3. Tentukan tingkat signifikan α.\n",
    "4. Tentukan uji statistik yang sesuai dan tentukan daerah kritis.\n",
    "5. Hitung nilai uji statistik dari data sample. Hitung p-value sesuai dengan uji statistik yang digunakan.\n",
    "6. Ambil keputusan dengan TOLAK $H_0$ jika nilai uji terletak di daerah kritis atau dengan tessignifikan, TOLAK $H_0$ jika p-value lebih kecil dibanding tingkat signifikansi α yang diinginkan"
   ]
  },
  {
   "cell_type": "code",
   "execution_count": 119,
   "metadata": {},
   "outputs": [],
   "source": [
    "def normalz(x1, x2, d0, std1, std2, n1, n2):\n",
    "    numerator = x1 - x2 - d0\n",
    "    denominator = math.sqrt(((std1**2)/n1) + ((std2**2)/n2))\n",
    "    return numerator/denominator\n",
    "    \n",
    "def v(std1, std2, n1, n2):\n",
    "    numerator = (((std1**2)/n1) + ((std2**2)/n2))**2\n",
    "    denominator = (((std1**2)/n1)**2)/(n1-1) + (((std2**2)/n2)**2)/(n2-1)\n",
    "    return numerator/denominator\n",
    "\n",
    "def t(x1, x2, d0, std1, std2, n1, n2):\n",
    "    numerator = x1 - x2 - d0\n",
    "    denominator = math.sqrt(((std1**2)/n1) + ((std2**2)/n2))\n",
    "    return numerator/denominator\n",
    "\n",
    "def phat(x1, x2, n1, n2):\n",
    "    return (x1+x2)/(n1+n2)\n",
    "\n",
    "def normalzproporsi(phat1, phat2, phat, qhat, n1, n2):\n",
    "    numerator = phat1 - phat2\n",
    "    denominator = math.sqrt(phat * qhat * ((1/n1)+(1/n2)))\n",
    "    return numerator/denominator\n",
    "\n",
    "def f(std1, std2):\n",
    "    return (std1**2)/(std2**2)"
   ]
  },
  {
   "cell_type": "markdown",
   "metadata": {},
   "source": [
    "### Data ke 1-250"
   ]
  },
  {
   "cell_type": "code",
   "execution_count": 120,
   "metadata": {
    "colab": {
     "base_uri": "https://localhost:8080/",
     "height": 300
    },
    "id": "YcfwcgpE2vcX",
    "outputId": "343bfd80-781d-4897-ad5b-3470d0297590"
   },
   "outputs": [
    {
     "data": {
      "text/html": [
       "<div>\n",
       "<style scoped>\n",
       "    .dataframe tbody tr th:only-of-type {\n",
       "        vertical-align: middle;\n",
       "    }\n",
       "\n",
       "    .dataframe tbody tr th {\n",
       "        vertical-align: top;\n",
       "    }\n",
       "\n",
       "    .dataframe thead th {\n",
       "        text-align: right;\n",
       "    }\n",
       "</style>\n",
       "<table border=\"1\" class=\"dataframe\">\n",
       "  <thead>\n",
       "    <tr style=\"text-align: right;\">\n",
       "      <th></th>\n",
       "      <th>id</th>\n",
       "      <th>Daerah</th>\n",
       "      <th>SumbuUtama</th>\n",
       "      <th>SumbuKecil</th>\n",
       "      <th>Keunikan</th>\n",
       "      <th>AreaBulatan</th>\n",
       "      <th>Diameter</th>\n",
       "      <th>KadarAir</th>\n",
       "      <th>Keliling</th>\n",
       "      <th>Bulatan</th>\n",
       "      <th>Ransum</th>\n",
       "      <th>Kelas</th>\n",
       "    </tr>\n",
       "  </thead>\n",
       "  <tbody>\n",
       "    <tr>\n",
       "      <th>count</th>\n",
       "      <td>250.000000</td>\n",
       "      <td>250.000000</td>\n",
       "      <td>250.000000</td>\n",
       "      <td>250.000000</td>\n",
       "      <td>250.000000</td>\n",
       "      <td>250.000000</td>\n",
       "      <td>250.000000</td>\n",
       "      <td>250.000000</td>\n",
       "      <td>250.000000</td>\n",
       "      <td>250.000000</td>\n",
       "      <td>250.000000</td>\n",
       "      <td>250.000000</td>\n",
       "    </tr>\n",
       "    <tr>\n",
       "      <th>mean</th>\n",
       "      <td>125.500000</td>\n",
       "      <td>5394.136000</td>\n",
       "      <td>128.973929</td>\n",
       "      <td>54.378581</td>\n",
       "      <td>0.904826</td>\n",
       "      <td>5549.804000</td>\n",
       "      <td>82.613746</td>\n",
       "      <td>0.635743</td>\n",
       "      <td>305.125020</td>\n",
       "      <td>0.728154</td>\n",
       "      <td>2.357643</td>\n",
       "      <td>1.004000</td>\n",
       "    </tr>\n",
       "    <tr>\n",
       "      <th>std</th>\n",
       "      <td>72.312977</td>\n",
       "      <td>845.269999</td>\n",
       "      <td>14.093670</td>\n",
       "      <td>4.203742</td>\n",
       "      <td>0.013431</td>\n",
       "      <td>867.025436</td>\n",
       "      <td>6.570311</td>\n",
       "      <td>0.095096</td>\n",
       "      <td>29.637571</td>\n",
       "      <td>0.051092</td>\n",
       "      <td>0.094939</td>\n",
       "      <td>0.063246</td>\n",
       "    </tr>\n",
       "    <tr>\n",
       "      <th>min</th>\n",
       "      <td>1.000000</td>\n",
       "      <td>3136.000000</td>\n",
       "      <td>92.229317</td>\n",
       "      <td>41.436419</td>\n",
       "      <td>0.719916</td>\n",
       "      <td>3270.000000</td>\n",
       "      <td>63.189233</td>\n",
       "      <td>0.418947</td>\n",
       "      <td>234.781000</td>\n",
       "      <td>0.261297</td>\n",
       "      <td>1.440796</td>\n",
       "      <td>1.000000</td>\n",
       "    </tr>\n",
       "    <tr>\n",
       "      <th>25%</th>\n",
       "      <td>63.250000</td>\n",
       "      <td>4817.000000</td>\n",
       "      <td>122.008029</td>\n",
       "      <td>51.753392</td>\n",
       "      <td>0.901810</td>\n",
       "      <td>4961.250000</td>\n",
       "      <td>78.314712</td>\n",
       "      <td>0.553903</td>\n",
       "      <td>286.563500</td>\n",
       "      <td>0.718566</td>\n",
       "      <td>2.314103</td>\n",
       "      <td>1.000000</td>\n",
       "    </tr>\n",
       "    <tr>\n",
       "      <th>50%</th>\n",
       "      <td>125.500000</td>\n",
       "      <td>5444.500000</td>\n",
       "      <td>128.659787</td>\n",
       "      <td>54.507285</td>\n",
       "      <td>0.907613</td>\n",
       "      <td>5551.000000</td>\n",
       "      <td>83.259548</td>\n",
       "      <td>0.611873</td>\n",
       "      <td>304.742500</td>\n",
       "      <td>0.735247</td>\n",
       "      <td>2.382048</td>\n",
       "      <td>1.000000</td>\n",
       "    </tr>\n",
       "    <tr>\n",
       "      <th>75%</th>\n",
       "      <td>187.750000</td>\n",
       "      <td>5940.000000</td>\n",
       "      <td>135.848720</td>\n",
       "      <td>57.150251</td>\n",
       "      <td>0.910973</td>\n",
       "      <td>6093.750000</td>\n",
       "      <td>86.965749</td>\n",
       "      <td>0.712129</td>\n",
       "      <td>320.882750</td>\n",
       "      <td>0.752251</td>\n",
       "      <td>2.424445</td>\n",
       "      <td>1.000000</td>\n",
       "    </tr>\n",
       "    <tr>\n",
       "      <th>max</th>\n",
       "      <td>250.000000</td>\n",
       "      <td>7453.000000</td>\n",
       "      <td>227.928583</td>\n",
       "      <td>64.012769</td>\n",
       "      <td>0.914001</td>\n",
       "      <td>7720.000000</td>\n",
       "      <td>97.413830</td>\n",
       "      <td>0.878899</td>\n",
       "      <td>448.305000</td>\n",
       "      <td>0.785460</td>\n",
       "      <td>2.464809</td>\n",
       "      <td>2.000000</td>\n",
       "    </tr>\n",
       "  </tbody>\n",
       "</table>\n",
       "</div>"
      ],
      "text/plain": [
       "               id       Daerah  SumbuUtama  SumbuKecil    Keunikan  \\\n",
       "count  250.000000   250.000000  250.000000  250.000000  250.000000   \n",
       "mean   125.500000  5394.136000  128.973929   54.378581    0.904826   \n",
       "std     72.312977   845.269999   14.093670    4.203742    0.013431   \n",
       "min      1.000000  3136.000000   92.229317   41.436419    0.719916   \n",
       "25%     63.250000  4817.000000  122.008029   51.753392    0.901810   \n",
       "50%    125.500000  5444.500000  128.659787   54.507285    0.907613   \n",
       "75%    187.750000  5940.000000  135.848720   57.150251    0.910973   \n",
       "max    250.000000  7453.000000  227.928583   64.012769    0.914001   \n",
       "\n",
       "       AreaBulatan    Diameter    KadarAir    Keliling     Bulatan  \\\n",
       "count   250.000000  250.000000  250.000000  250.000000  250.000000   \n",
       "mean   5549.804000   82.613746    0.635743  305.125020    0.728154   \n",
       "std     867.025436    6.570311    0.095096   29.637571    0.051092   \n",
       "min    3270.000000   63.189233    0.418947  234.781000    0.261297   \n",
       "25%    4961.250000   78.314712    0.553903  286.563500    0.718566   \n",
       "50%    5551.000000   83.259548    0.611873  304.742500    0.735247   \n",
       "75%    6093.750000   86.965749    0.712129  320.882750    0.752251   \n",
       "max    7720.000000   97.413830    0.878899  448.305000    0.785460   \n",
       "\n",
       "           Ransum       Kelas  \n",
       "count  250.000000  250.000000  \n",
       "mean     2.357643    1.004000  \n",
       "std      0.094939    0.063246  \n",
       "min      1.440796    1.000000  \n",
       "25%      2.314103    1.000000  \n",
       "50%      2.382048    1.000000  \n",
       "75%      2.424445    1.000000  \n",
       "max      2.464809    2.000000  "
      ]
     },
     "execution_count": 120,
     "metadata": {},
     "output_type": "execute_result"
    }
   ],
   "source": [
    "setengahatas = df[0:250]\n",
    "setengahatas.describe()"
   ]
  },
  {
   "cell_type": "markdown",
   "metadata": {},
   "source": [
    "### Data ke 251-500"
   ]
  },
  {
   "cell_type": "code",
   "execution_count": 121,
   "metadata": {
    "colab": {
     "base_uri": "https://localhost:8080/",
     "height": 300
    },
    "id": "pyoPkD65xvcO",
    "outputId": "edf61781-24bb-499c-c845-ba2393f3990a"
   },
   "outputs": [
    {
     "data": {
      "text/html": [
       "<div>\n",
       "<style scoped>\n",
       "    .dataframe tbody tr th:only-of-type {\n",
       "        vertical-align: middle;\n",
       "    }\n",
       "\n",
       "    .dataframe tbody tr th {\n",
       "        vertical-align: top;\n",
       "    }\n",
       "\n",
       "    .dataframe thead th {\n",
       "        text-align: right;\n",
       "    }\n",
       "</style>\n",
       "<table border=\"1\" class=\"dataframe\">\n",
       "  <thead>\n",
       "    <tr style=\"text-align: right;\">\n",
       "      <th></th>\n",
       "      <th>id</th>\n",
       "      <th>Daerah</th>\n",
       "      <th>SumbuUtama</th>\n",
       "      <th>SumbuKecil</th>\n",
       "      <th>Keunikan</th>\n",
       "      <th>AreaBulatan</th>\n",
       "      <th>Diameter</th>\n",
       "      <th>KadarAir</th>\n",
       "      <th>Keliling</th>\n",
       "      <th>Bulatan</th>\n",
       "      <th>Ransum</th>\n",
       "      <th>Kelas</th>\n",
       "    </tr>\n",
       "  </thead>\n",
       "  <tbody>\n",
       "    <tr>\n",
       "      <th>count</th>\n",
       "      <td>250.000000</td>\n",
       "      <td>250.000000</td>\n",
       "      <td>250.000000</td>\n",
       "      <td>250.000000</td>\n",
       "      <td>250.000000</td>\n",
       "      <td>250.000000</td>\n",
       "      <td>250.000000</td>\n",
       "      <td>250.000000</td>\n",
       "      <td>250.000000</td>\n",
       "      <td>250.000000</td>\n",
       "      <td>250.000000</td>\n",
       "      <td>250.0</td>\n",
       "    </tr>\n",
       "    <tr>\n",
       "      <th>mean</th>\n",
       "      <td>375.500000</td>\n",
       "      <td>4208.356000</td>\n",
       "      <td>103.116414</td>\n",
       "      <td>53.051911</td>\n",
       "      <td>0.852702</td>\n",
       "      <td>4324.292000</td>\n",
       "      <td>72.928570</td>\n",
       "      <td>0.661000</td>\n",
       "      <td>257.834424</td>\n",
       "      <td>0.795321</td>\n",
       "      <td>1.944187</td>\n",
       "      <td>2.0</td>\n",
       "    </tr>\n",
       "    <tr>\n",
       "      <th>std</th>\n",
       "      <td>72.312977</td>\n",
       "      <td>727.679702</td>\n",
       "      <td>11.643519</td>\n",
       "      <td>3.828688</td>\n",
       "      <td>0.033736</td>\n",
       "      <td>738.566466</td>\n",
       "      <td>6.310964</td>\n",
       "      <td>0.092101</td>\n",
       "      <td>28.149351</td>\n",
       "      <td>0.052484</td>\n",
       "      <td>0.173747</td>\n",
       "      <td>0.0</td>\n",
       "    </tr>\n",
       "    <tr>\n",
       "      <th>min</th>\n",
       "      <td>251.000000</td>\n",
       "      <td>2522.000000</td>\n",
       "      <td>74.133114</td>\n",
       "      <td>39.906517</td>\n",
       "      <td>0.725553</td>\n",
       "      <td>2579.000000</td>\n",
       "      <td>56.666658</td>\n",
       "      <td>0.409927</td>\n",
       "      <td>197.015000</td>\n",
       "      <td>0.174590</td>\n",
       "      <td>1.453137</td>\n",
       "      <td>2.0</td>\n",
       "    </tr>\n",
       "    <tr>\n",
       "      <th>25%</th>\n",
       "      <td>313.250000</td>\n",
       "      <td>3733.500000</td>\n",
       "      <td>95.519781</td>\n",
       "      <td>50.797123</td>\n",
       "      <td>0.839186</td>\n",
       "      <td>3827.250000</td>\n",
       "      <td>68.946644</td>\n",
       "      <td>0.590431</td>\n",
       "      <td>240.300000</td>\n",
       "      <td>0.773805</td>\n",
       "      <td>1.838760</td>\n",
       "      <td>2.0</td>\n",
       "    </tr>\n",
       "    <tr>\n",
       "      <th>50%</th>\n",
       "      <td>375.500000</td>\n",
       "      <td>4171.500000</td>\n",
       "      <td>104.332979</td>\n",
       "      <td>52.666834</td>\n",
       "      <td>0.863701</td>\n",
       "      <td>4283.000000</td>\n",
       "      <td>72.878794</td>\n",
       "      <td>0.634284</td>\n",
       "      <td>257.184000</td>\n",
       "      <td>0.796387</td>\n",
       "      <td>1.984110</td>\n",
       "      <td>2.0</td>\n",
       "    </tr>\n",
       "    <tr>\n",
       "      <th>75%</th>\n",
       "      <td>437.750000</td>\n",
       "      <td>4622.500000</td>\n",
       "      <td>110.482779</td>\n",
       "      <td>55.658914</td>\n",
       "      <td>0.876217</td>\n",
       "      <td>4759.750000</td>\n",
       "      <td>76.717337</td>\n",
       "      <td>0.737766</td>\n",
       "      <td>272.856250</td>\n",
       "      <td>0.816398</td>\n",
       "      <td>2.075044</td>\n",
       "      <td>2.0</td>\n",
       "    </tr>\n",
       "    <tr>\n",
       "      <th>max</th>\n",
       "      <td>500.000000</td>\n",
       "      <td>6946.000000</td>\n",
       "      <td>136.303603</td>\n",
       "      <td>68.977700</td>\n",
       "      <td>0.892647</td>\n",
       "      <td>7115.000000</td>\n",
       "      <td>94.042128</td>\n",
       "      <td>0.877897</td>\n",
       "      <td>488.837000</td>\n",
       "      <td>0.904748</td>\n",
       "      <td>2.218493</td>\n",
       "      <td>2.0</td>\n",
       "    </tr>\n",
       "  </tbody>\n",
       "</table>\n",
       "</div>"
      ],
      "text/plain": [
       "               id       Daerah  SumbuUtama  SumbuKecil    Keunikan  \\\n",
       "count  250.000000   250.000000  250.000000  250.000000  250.000000   \n",
       "mean   375.500000  4208.356000  103.116414   53.051911    0.852702   \n",
       "std     72.312977   727.679702   11.643519    3.828688    0.033736   \n",
       "min    251.000000  2522.000000   74.133114   39.906517    0.725553   \n",
       "25%    313.250000  3733.500000   95.519781   50.797123    0.839186   \n",
       "50%    375.500000  4171.500000  104.332979   52.666834    0.863701   \n",
       "75%    437.750000  4622.500000  110.482779   55.658914    0.876217   \n",
       "max    500.000000  6946.000000  136.303603   68.977700    0.892647   \n",
       "\n",
       "       AreaBulatan    Diameter    KadarAir    Keliling     Bulatan  \\\n",
       "count   250.000000  250.000000  250.000000  250.000000  250.000000   \n",
       "mean   4324.292000   72.928570    0.661000  257.834424    0.795321   \n",
       "std     738.566466    6.310964    0.092101   28.149351    0.052484   \n",
       "min    2579.000000   56.666658    0.409927  197.015000    0.174590   \n",
       "25%    3827.250000   68.946644    0.590431  240.300000    0.773805   \n",
       "50%    4283.000000   72.878794    0.634284  257.184000    0.796387   \n",
       "75%    4759.750000   76.717337    0.737766  272.856250    0.816398   \n",
       "max    7115.000000   94.042128    0.877897  488.837000    0.904748   \n",
       "\n",
       "           Ransum  Kelas  \n",
       "count  250.000000  250.0  \n",
       "mean     1.944187    2.0  \n",
       "std      0.173747    0.0  \n",
       "min      1.453137    2.0  \n",
       "25%      1.838760    2.0  \n",
       "50%      1.984110    2.0  \n",
       "75%      2.075044    2.0  \n",
       "max      2.218493    2.0  "
      ]
     },
     "execution_count": 121,
     "metadata": {},
     "output_type": "execute_result"
    }
   ],
   "source": [
    "setengahbawah = df[250:]\n",
    "setengahbawah.describe()"
   ]
  },
  {
   "cell_type": "markdown",
   "metadata": {},
   "source": [
    "---"
   ]
  },
  {
   "cell_type": "markdown",
   "metadata": {},
   "source": [
    "### 5.1 Rata-rata AreaBulatan setengah awal dan akhir sama\n",
    "Data kolom AreaBulatan dibagi 2 sama rata: bagian awal dan bagian akhir kolom. Benarkah rata-rata kedua bagian tersebut sama?"
   ]
  },
  {
   "cell_type": "code",
   "execution_count": 122,
   "metadata": {},
   "outputs": [
    {
     "data": {
      "text/markdown": [
       "### Visualisasi Boxplot"
      ],
      "text/plain": [
       "<IPython.core.display.Markdown object>"
      ]
     },
     "metadata": {},
     "output_type": "display_data"
    },
    {
     "data": {
      "image/png": "[encoded data removed]",
      "text/plain": [
       "<Figure size 432x288 with 1 Axes>"
      ]
     },
     "metadata": {
      "needs_background": "light"
     },
     "output_type": "display_data"
    }
   ],
   "source": [
    "display(Markdown(\"### Visualisasi Boxplot\"))\n",
    "plt.boxplot([setengahatas[\"AreaBulatan\"], setengahbawah[\"AreaBulatan\"]])\n",
    "plt.xticks(ticks=[1,2],labels=[\"1 - 250\",\"251 - 500\"])\n",
    "plt.title(\"AreaBulatan\")\n",
    "plt.tight_layout()\n",
    "plt.show()"
   ]
  },
  {
   "cell_type": "markdown",
   "metadata": {},
   "source": [
    "### Deskripsi Statistik - AreaBulatan (1 - 250)"
   ]
  },
  {
   "cell_type": "code",
   "execution_count": 123,
   "metadata": {},
   "outputs": [
    {
     "data": {
      "text/html": [
       "<div>\n",
       "<style scoped>\n",
       "    .dataframe tbody tr th:only-of-type {\n",
       "        vertical-align: middle;\n",
       "    }\n",
       "\n",
       "    .dataframe tbody tr th {\n",
       "        vertical-align: top;\n",
       "    }\n",
       "\n",
       "    .dataframe thead th {\n",
       "        text-align: right;\n",
       "    }\n",
       "</style>\n",
       "<table border=\"1\" class=\"dataframe\">\n",
       "  <thead>\n",
       "    <tr style=\"text-align: right;\">\n",
       "      <th></th>\n",
       "      <th>AreaBulatan</th>\n",
       "    </tr>\n",
       "  </thead>\n",
       "  <tbody>\n",
       "    <tr>\n",
       "      <th>count</th>\n",
       "      <td>250.000000</td>\n",
       "    </tr>\n",
       "    <tr>\n",
       "      <th>mean</th>\n",
       "      <td>5549.804000</td>\n",
       "    </tr>\n",
       "    <tr>\n",
       "      <th>std</th>\n",
       "      <td>867.025436</td>\n",
       "    </tr>\n",
       "    <tr>\n",
       "      <th>min</th>\n",
       "      <td>3270.000000</td>\n",
       "    </tr>\n",
       "    <tr>\n",
       "      <th>25%</th>\n",
       "      <td>4961.250000</td>\n",
       "    </tr>\n",
       "    <tr>\n",
       "      <th>50%</th>\n",
       "      <td>5551.000000</td>\n",
       "    </tr>\n",
       "    <tr>\n",
       "      <th>75%</th>\n",
       "      <td>6093.750000</td>\n",
       "    </tr>\n",
       "    <tr>\n",
       "      <th>max</th>\n",
       "      <td>7720.000000</td>\n",
       "    </tr>\n",
       "  </tbody>\n",
       "</table>\n",
       "</div>"
      ],
      "text/plain": [
       "       AreaBulatan\n",
       "count   250.000000\n",
       "mean   5549.804000\n",
       "std     867.025436\n",
       "min    3270.000000\n",
       "25%    4961.250000\n",
       "50%    5551.000000\n",
       "75%    6093.750000\n",
       "max    7720.000000"
      ]
     },
     "execution_count": 123,
     "metadata": {},
     "output_type": "execute_result"
    }
   ],
   "source": [
    "pd.DataFrame(setengahatas[\"AreaBulatan\"].describe())"
   ]
  },
  {
   "cell_type": "markdown",
   "metadata": {},
   "source": [
    "### Deskripsi Statistik - AreaBulatan (251 - 500)"
   ]
  },
  {
   "cell_type": "code",
   "execution_count": 124,
   "metadata": {},
   "outputs": [
    {
     "data": {
      "text/html": [
       "<div>\n",
       "<style scoped>\n",
       "    .dataframe tbody tr th:only-of-type {\n",
       "        vertical-align: middle;\n",
       "    }\n",
       "\n",
       "    .dataframe tbody tr th {\n",
       "        vertical-align: top;\n",
       "    }\n",
       "\n",
       "    .dataframe thead th {\n",
       "        text-align: right;\n",
       "    }\n",
       "</style>\n",
       "<table border=\"1\" class=\"dataframe\">\n",
       "  <thead>\n",
       "    <tr style=\"text-align: right;\">\n",
       "      <th></th>\n",
       "      <th>AreaBulatan</th>\n",
       "    </tr>\n",
       "  </thead>\n",
       "  <tbody>\n",
       "    <tr>\n",
       "      <th>count</th>\n",
       "      <td>250.000000</td>\n",
       "    </tr>\n",
       "    <tr>\n",
       "      <th>mean</th>\n",
       "      <td>4324.292000</td>\n",
       "    </tr>\n",
       "    <tr>\n",
       "      <th>std</th>\n",
       "      <td>738.566466</td>\n",
       "    </tr>\n",
       "    <tr>\n",
       "      <th>min</th>\n",
       "      <td>2579.000000</td>\n",
       "    </tr>\n",
       "    <tr>\n",
       "      <th>25%</th>\n",
       "      <td>3827.250000</td>\n",
       "    </tr>\n",
       "    <tr>\n",
       "      <th>50%</th>\n",
       "      <td>4283.000000</td>\n",
       "    </tr>\n",
       "    <tr>\n",
       "      <th>75%</th>\n",
       "      <td>4759.750000</td>\n",
       "    </tr>\n",
       "    <tr>\n",
       "      <th>max</th>\n",
       "      <td>7115.000000</td>\n",
       "    </tr>\n",
       "  </tbody>\n",
       "</table>\n",
       "</div>"
      ],
      "text/plain": [
       "       AreaBulatan\n",
       "count   250.000000\n",
       "mean   4324.292000\n",
       "std     738.566466\n",
       "min    2579.000000\n",
       "25%    3827.250000\n",
       "50%    4283.000000\n",
       "75%    4759.750000\n",
       "max    7115.000000"
      ]
     },
     "execution_count": 124,
     "metadata": {},
     "output_type": "execute_result"
    }
   ],
   "source": [
    "pd.DataFrame(setengahbawah[\"AreaBulatan\"].describe())"
   ]
  },
  {
   "cell_type": "markdown",
   "metadata": {},
   "source": [
    "**1. Menentukan hipotesis nol**<br>\n",
    "&nbsp;&nbsp;&nbsp;&nbsp;$H_0$: $µ_{AreaAtas}$ = $µ_{AreaBawah}$; $d_0$ = 0<br>\n",
    "\n",
    "**2. Menentukan hipotesis alternatif**<br>\n",
    "&nbsp;&nbsp;&nbsp;&nbsp;$H_1$: $µ_{AreaAtas}$ ≠ $µ_{AreaBawah}$; $d_0$ ≠ 0<br>\n",
    "\n",
    "**3. Menentukan tingkat signifikan**<br>\n",
    "&nbsp;&nbsp;&nbsp;&nbsp;α = 0.05<br>\n",
    "\n",
    "**4. Menentukan daerah kritis**<br>\n",
    "&nbsp;&nbsp;&nbsp;&nbsp;Jenis uji statistik: Two-tailed two sample normal, z-test<br>\n",
    "&nbsp;&nbsp;&nbsp;&nbsp;Jenis uji statistik ini dipilih karena n>30 dan distribusi data dapat dianggap mengikuti distribusi normal.<br>\n",
    "&nbsp;&nbsp;&nbsp;&nbsp;Daerah kritis: z < -1.96 atau z > 1.96<br>\n",
    "\n",
    "**5. Hitung nilai uji statistik dan p-value**<br>\n",
    "&nbsp;&nbsp;&nbsp;&nbsp;$\\bar{x_1} = 5549.804$<br>\n",
    "&nbsp;&nbsp;&nbsp;&nbsp;$\\bar{x_2} = 4324.292$<br>\n",
    "&nbsp;&nbsp;&nbsp;&nbsp;$\\sigma_1 = 867.0254356176825$<br>\n",
    "&nbsp;&nbsp;&nbsp;&nbsp;$\\sigma_2 = 738.5664658199252$<br>\n",
    "&nbsp;&nbsp;&nbsp;&nbsp;$\\\\n_1 = 250$<br>\n",
    "&nbsp;&nbsp;&nbsp;&nbsp;$\\\\n_2 = 250$<br>\n",
    "&nbsp;&nbsp;&nbsp;&nbsp;$z = \\Large\\frac{(\\bar{x_1} - \\bar{x_2})-(\\mu_1 - \\mu_2)}{\\sqrt{\\Large\\frac{\\sigma_1^2}{\\Large n_{\\ 1}} + \\Large\\frac{\\sigma_2^2}{\\Large n_{\\large 2}}}}$ = 17.013036648485464<br><br>\n",
    "&nbsp;&nbsp;&nbsp;&nbsp;$p-value \\approx 0. $<br>\n",
    "\n",
    "\n",
    "\n",
    "**6. Penarikan kesimpulan**<br>\n",
    "&nbsp;&nbsp;&nbsp;&nbsp;**TOLAK $H_0$** karena z berada pada daerah kritis dan didukung oleh hasil p-value yang lebih kecil dari nilai α/2 yang telah ditentukan.<br> \n",
    "&nbsp;&nbsp;&nbsp;&nbsp;Maka, dapat disimpulkan bahwa nilai rata-rata AreaBulatan setengah bagian atas tidak sama dengan AreaBulatan setengah bagian bawah.<br><br>\n"
   ]
  },
  {
   "cell_type": "markdown",
   "metadata": {},
   "source": [
    "#### Perhitungan uji statistik 5.1"
   ]
  },
  {
   "cell_type": "code",
   "execution_count": 125,
   "metadata": {
    "colab": {
     "base_uri": "https://localhost:8080/"
    },
    "id": "I5RjAO_dyAmh",
    "outputId": "32a2f35a-94f1-4e82-917d-f31ee9876087"
   },
   "outputs": [
    {
     "data": {
      "text/plain": [
       "17.013036648485464"
      ]
     },
     "execution_count": 125,
     "metadata": {},
     "output_type": "execute_result"
    }
   ],
   "source": [
    "x1 = setengahatas['AreaBulatan'].mean()\n",
    "x2 = setengahbawah['AreaBulatan'].mean()\n",
    "d0 = 0\n",
    "std1 = setengahatas['AreaBulatan'].std()\n",
    "std2 = setengahbawah['AreaBulatan'].std()\n",
    "n1 = 250\n",
    "n2 = 250\n",
    "\n",
    "normalz(x1, x2, d0, std1, std2, n1, n2)\n"
   ]
  },
  {
   "cell_type": "markdown",
   "metadata": {},
   "source": [
    "---"
   ]
  },
  {
   "cell_type": "markdown",
   "metadata": {},
   "source": [
    "### 5.2 Rata-rata KadarAir setengah awal lebih besar dari setengah akhir sebesar 0.2\n",
    "Data kolom Kadar Air dibagi 2 sama rata: bagian awal dan bagian akhir kolom. Benarkah rata-rata bagian awal lebih besar dari pada bagian akhir sebesar 0.2?"
   ]
  },
  {
   "cell_type": "code",
   "execution_count": 126,
   "metadata": {},
   "outputs": [
    {
     "data": {
      "text/markdown": [
       "### Visualisasi Boxplot"
      ],
      "text/plain": [
       "<IPython.core.display.Markdown object>"
      ]
     },
     "metadata": {},
     "output_type": "display_data"
    },
    {
     "data": {
      "image/png": "[encoded data removed]",
      "text/plain": [
       "<Figure size 432x288 with 1 Axes>"
      ]
     },
     "metadata": {
      "needs_background": "light"
     },
     "output_type": "display_data"
    }
   ],
   "source": [
    "display(Markdown(\"### Visualisasi Boxplot\"))\n",
    "plt.boxplot([setengahatas[\"KadarAir\"], setengahbawah[\"KadarAir\"]])\n",
    "plt.xticks(ticks=[1,2],labels=[\"1 - 250\",\"251 - 500\"])\n",
    "plt.title(\"KadarAir\")\n",
    "plt.tight_layout()\n",
    "plt.show()"
   ]
  },
  {
   "cell_type": "markdown",
   "metadata": {},
   "source": [
    "**1. Menentukan hipotesis nol**<br>\n",
    "&nbsp;&nbsp;&nbsp;&nbsp;$H_0$: $µ_{AreaAtas}$ - $µ_{AreaBawah}$ = 0.2; $d_0$ = 0.2<br>\n",
    "\n",
    "**2. Menentukan hipotesis alternatif**<br>\n",
    "&nbsp;&nbsp;&nbsp;&nbsp;$H_1$: $µ_{AreaAtas}$ - $µ_{AreaBawah}$ ≠ 0.2; $d_0$ ≠ 0.2<br>\n",
    "\n",
    "**3. Menentukan tingkat signifikan**<br>\n",
    "&nbsp;&nbsp;&nbsp;&nbsp;α = 0.05<br>\n",
    "\n",
    "**4. Menentukan daerah kritis**<br>\n",
    "&nbsp;&nbsp;&nbsp;&nbsp;Jenis uji statistik: Two-tailed two sample z-test<br>\n",
    "&nbsp;&nbsp;&nbsp;&nbsp;Jenis uji statistik ini dipilih karena n>30 dan distribusi data dapat dianggap mengikuti distribusi normal.<br>\n",
    "&nbsp;&nbsp;&nbsp;&nbsp;Daerah kritis: z < -1.96 atau z > 1.96<br>\n",
    "\n",
    "**5. Hitung nilai uji statistik dan p-value**<br>\n",
    "&nbsp;&nbsp;&nbsp;&nbsp;$\\bar{x_1} = 0.63574344072$<br>\n",
    "&nbsp;&nbsp;&nbsp;&nbsp;$\\bar{x_2} = 0.6609999030760001$<br>\n",
    "&nbsp;&nbsp;&nbsp;&nbsp;$\\sigma_1 = 0.09509574147708488$<br>\n",
    "&nbsp;&nbsp;&nbsp;&nbsp;$\\sigma_2 = 0.0921012305176788$<br>\n",
    "&nbsp;&nbsp;&nbsp;&nbsp;$\\\\n_1 = 250$<br>\n",
    "&nbsp;&nbsp;&nbsp;&nbsp;$\\\\n_2 = 250$<br>\n",
    "&nbsp;&nbsp;&nbsp;&nbsp;$z = \\Large\\frac{(\\bar{x_1} - \\bar{x_2})-(\\mu_1 - \\mu_2)}{\\sqrt{\\Large\\frac{\\sigma_1^2}{\\Large n_{\\ 1}} + \\Large\\frac{\\sigma_2^2}{\\Large n_{\\large 2}}}}$ = $-26.903444249744958$<br><br>\n",
    "&nbsp;&nbsp;&nbsp;&nbsp;$p-value \\approx 0. $<br>\n",
    "\n",
    "\n",
    "\n",
    "**6. Penarikan kesimpulan**<br>\n",
    "&nbsp;&nbsp;&nbsp;&nbsp;**TOLAK $H_0$** karena z berada pada daerah kritis dan didukung oleh hasil p-value yang lebih kecil dari nilai α/2 yang telah ditentukan.<br> \n",
    "&nbsp;&nbsp;&nbsp;&nbsp;Maka, dapat disimpulkan bahwa nilai rata-rata KadarAir setengah bagian atas tidak lebih besar rata-rata KadarAir setengah bagian bawah sebesar 0.2<br><br>\n"
   ]
  },
  {
   "cell_type": "markdown",
   "metadata": {},
   "source": [
    "#### Perhitungan uji statistik 5.2"
   ]
  },
  {
   "cell_type": "code",
   "execution_count": 127,
   "metadata": {
    "colab": {
     "base_uri": "https://localhost:8080/"
    },
    "id": "54Wjofs-0GCn",
    "outputId": "815cdbfe-740e-49ee-926d-3b7b0acc2f37"
   },
   "outputs": [
    {
     "data": {
      "text/plain": [
       "-26.903444249744958"
      ]
     },
     "execution_count": 127,
     "metadata": {},
     "output_type": "execute_result"
    }
   ],
   "source": [
    "x1 = setengahatas['KadarAir'].mean()\n",
    "x2 = setengahbawah['KadarAir'].mean()\n",
    "d0 = 0.2\n",
    "std1 = setengahatas['KadarAir'].std()\n",
    "std2 = setengahbawah['KadarAir'].std()\n",
    "n1 = 250\n",
    "n2 = 250\n",
    "\n",
    "normalz(x1, x2, d0, std1, std2, n1, n2)"
   ]
  },
  {
   "cell_type": "markdown",
   "metadata": {},
   "source": [
    "---"
   ]
  },
  {
   "cell_type": "markdown",
   "metadata": {},
   "source": [
    "### 5.3 Rata-rata Bulatan\n",
    "Rata-rata 20 baris pertama kolom Bulatan sama dengan 20 baris terakhirnya?"
   ]
  },
  {
   "cell_type": "code",
   "execution_count": 128,
   "metadata": {},
   "outputs": [],
   "source": [
    "BulatanAtas = df[:20][\"Bulatan\"]\n",
    "BulatanBawah = df[480:][\"Bulatan\"]\n"
   ]
  },
  {
   "cell_type": "code",
   "execution_count": 129,
   "metadata": {},
   "outputs": [
    {
     "data": {
      "text/markdown": [
       "### Visualisasi Boxplot"
      ],
      "text/plain": [
       "<IPython.core.display.Markdown object>"
      ]
     },
     "metadata": {},
     "output_type": "display_data"
    },
    {
     "data": {
      "image/png": "[encoded data removed]",
      "text/plain": [
       "<Figure size 432x288 with 1 Axes>"
      ]
     },
     "metadata": {
      "needs_background": "light"
     },
     "output_type": "display_data"
    }
   ],
   "source": [
    "display(Markdown(\"### Visualisasi Boxplot\"))\n",
    "plt.boxplot([BulatanAtas, BulatanBawah])\n",
    "plt.xticks(ticks=[1,2],labels=[\"1 - 20\",\"481 - 500\"])\n",
    "plt.title(\"Bulatan\")\n",
    "plt.tight_layout()\n",
    "plt.show()"
   ]
  },
  {
   "cell_type": "code",
   "execution_count": 130,
   "metadata": {},
   "outputs": [
    {
     "data": {
      "text/html": [
       "<div>\n",
       "<style scoped>\n",
       "    .dataframe tbody tr th:only-of-type {\n",
       "        vertical-align: middle;\n",
       "    }\n",
       "\n",
       "    .dataframe tbody tr th {\n",
       "        vertical-align: top;\n",
       "    }\n",
       "\n",
       "    .dataframe thead th {\n",
       "        text-align: right;\n",
       "    }\n",
       "</style>\n",
       "<table border=\"1\" class=\"dataframe\">\n",
       "  <thead>\n",
       "    <tr style=\"text-align: right;\">\n",
       "      <th></th>\n",
       "      <th>Bulatan</th>\n",
       "    </tr>\n",
       "  </thead>\n",
       "  <tbody>\n",
       "    <tr>\n",
       "      <th>count</th>\n",
       "      <td>20.000000</td>\n",
       "    </tr>\n",
       "    <tr>\n",
       "      <th>mean</th>\n",
       "      <td>0.737535</td>\n",
       "    </tr>\n",
       "    <tr>\n",
       "      <th>std</th>\n",
       "      <td>0.030385</td>\n",
       "    </tr>\n",
       "    <tr>\n",
       "      <th>min</th>\n",
       "      <td>0.661849</td>\n",
       "    </tr>\n",
       "    <tr>\n",
       "      <th>25%</th>\n",
       "      <td>0.722509</td>\n",
       "    </tr>\n",
       "    <tr>\n",
       "      <th>50%</th>\n",
       "      <td>0.738314</td>\n",
       "    </tr>\n",
       "    <tr>\n",
       "      <th>75%</th>\n",
       "      <td>0.764427</td>\n",
       "    </tr>\n",
       "    <tr>\n",
       "      <th>max</th>\n",
       "      <td>0.780418</td>\n",
       "    </tr>\n",
       "  </tbody>\n",
       "</table>\n",
       "</div>"
      ],
      "text/plain": [
       "         Bulatan\n",
       "count  20.000000\n",
       "mean    0.737535\n",
       "std     0.030385\n",
       "min     0.661849\n",
       "25%     0.722509\n",
       "50%     0.738314\n",
       "75%     0.764427\n",
       "max     0.780418"
      ]
     },
     "execution_count": 130,
     "metadata": {},
     "output_type": "execute_result"
    }
   ],
   "source": [
    "pd.DataFrame(BulatanAtas.describe())"
   ]
  },
  {
   "cell_type": "code",
   "execution_count": 131,
   "metadata": {},
   "outputs": [
    {
     "data": {
      "text/html": [
       "<div>\n",
       "<style scoped>\n",
       "    .dataframe tbody tr th:only-of-type {\n",
       "        vertical-align: middle;\n",
       "    }\n",
       "\n",
       "    .dataframe tbody tr th {\n",
       "        vertical-align: top;\n",
       "    }\n",
       "\n",
       "    .dataframe thead th {\n",
       "        text-align: right;\n",
       "    }\n",
       "</style>\n",
       "<table border=\"1\" class=\"dataframe\">\n",
       "  <thead>\n",
       "    <tr style=\"text-align: right;\">\n",
       "      <th></th>\n",
       "      <th>Bulatan</th>\n",
       "    </tr>\n",
       "  </thead>\n",
       "  <tbody>\n",
       "    <tr>\n",
       "      <th>count</th>\n",
       "      <td>20.000000</td>\n",
       "    </tr>\n",
       "    <tr>\n",
       "      <th>mean</th>\n",
       "      <td>0.767322</td>\n",
       "    </tr>\n",
       "    <tr>\n",
       "      <th>std</th>\n",
       "      <td>0.025115</td>\n",
       "    </tr>\n",
       "    <tr>\n",
       "      <th>min</th>\n",
       "      <td>0.711677</td>\n",
       "    </tr>\n",
       "    <tr>\n",
       "      <th>25%</th>\n",
       "      <td>0.753426</td>\n",
       "    </tr>\n",
       "    <tr>\n",
       "      <th>50%</th>\n",
       "      <td>0.773010</td>\n",
       "    </tr>\n",
       "    <tr>\n",
       "      <th>75%</th>\n",
       "      <td>0.780859</td>\n",
       "    </tr>\n",
       "    <tr>\n",
       "      <th>max</th>\n",
       "      <td>0.804733</td>\n",
       "    </tr>\n",
       "  </tbody>\n",
       "</table>\n",
       "</div>"
      ],
      "text/plain": [
       "         Bulatan\n",
       "count  20.000000\n",
       "mean    0.767322\n",
       "std     0.025115\n",
       "min     0.711677\n",
       "25%     0.753426\n",
       "50%     0.773010\n",
       "75%     0.780859\n",
       "max     0.804733"
      ]
     },
     "execution_count": 131,
     "metadata": {},
     "output_type": "execute_result"
    }
   ],
   "source": [
    "pd.DataFrame(BulatanBawah.describe())"
   ]
  },
  {
   "cell_type": "markdown",
   "metadata": {},
   "source": [
    "**1. Menentukan hipotesis nol**<br>\n",
    "&nbsp;&nbsp;&nbsp;&nbsp;$H_0$: $µ_{BulatanAtas}$ = $µ_{BulatanBawah}$; $d_0$ = 0<br>\n",
    "\n",
    "**2. Menentukan hipotesis alternatif**<br>\n",
    "&nbsp;&nbsp;&nbsp;&nbsp;$H_1$: $µ_{BulatanAtas}$ ≠ $µ_{BulatanBawah}$; $d_0$ ≠ 0<br>\n",
    "\n",
    "**3. Menentukan tingkat signifikan**<br>\n",
    "&nbsp;&nbsp;&nbsp;&nbsp;α = 0.05<br>\n",
    "\n",
    "**4. Menentukan daerah kritis**<br>\n",
    "&nbsp;&nbsp;&nbsp;&nbsp;Jenis uji statistik: Two-tailed two sample t-test<br>\n",
    "&nbsp;&nbsp;&nbsp;&nbsp;Jenis uji statistik ini dipilih karena n<30.<br>\n",
    "&nbsp;&nbsp;&nbsp;&nbsp;Daerah kritis: t < -2.026 atau t > 2.026<br>\n",
    "\n",
    "**5. Hitung nilai uji statistik dan p-value**<br>\n",
    "&nbsp;&nbsp;&nbsp;&nbsp;$\\bar{x_1} = 0.737535$<br>\n",
    "&nbsp;&nbsp;&nbsp;&nbsp;$\\bar{x_2} = 0.767322$<br>\n",
    "&nbsp;&nbsp;&nbsp;&nbsp;$s_1 = 0.030385$<br>\n",
    "&nbsp;&nbsp;&nbsp;&nbsp;$s_2 = 0.025115$<br>\n",
    "&nbsp;&nbsp;&nbsp;&nbsp;$\\\\n_1 = 20$<br>\n",
    "&nbsp;&nbsp;&nbsp;&nbsp;$\\\\n_2 = 20$<br>\n",
    "&nbsp;&nbsp;&nbsp;&nbsp;$t' = \\Large\\frac{(\\bar{x_1} - \\bar{x_2})-(\\mu_1 - \\mu_2)}{\\sqrt{\\Large\\frac{s_1^2}{\\Large n_{\\ 1}} + \\Large\\frac{s_2^2}{\\Large n_{\\large 2}}}}$ = -3.3792268633124025<br><br>\n",
    "&nbsp;&nbsp;&nbsp;&nbsp;$v = \\Large\\frac{(s_1^2/n_1 + s_2^2/n_2)^2}{\\Large\\frac{(s_1^2/n_1)^2}{n_1-1} + \\Large\\frac{(s_2^2/n_2)^2}{n_2-1}}$<br><br>\n",
    "&nbsp;&nbsp;&nbsp;&nbsp;$p-value \\approx 0.001735 $<br><br>\n",
    "\n",
    "\n",
    "**6. Penarikan kesimpulan**<br>\n",
    "&nbsp;&nbsp;&nbsp;&nbsp;**TOLAK $H_0$** karena z berada pada daerah kritis dan didukung oleh hasil p-value yang lebih kecil dari nilai α/2 yang telah ditentukan.<br> \n",
    "&nbsp;&nbsp;&nbsp;&nbsp;Maka, dapat disimpulkan bahwa nilai rata-rata Bulatan 20 baris pertama tidak sama dengan Bulatan 20 baris terakhir.<br><br>\n"
   ]
  },
  {
   "cell_type": "markdown",
   "metadata": {},
   "source": [
    "#### Perhitungan uji statistik 5.3"
   ]
  },
  {
   "cell_type": "code",
   "execution_count": 132,
   "metadata": {},
   "outputs": [
    {
     "data": {
      "text/plain": [
       "36.70006222999689"
      ]
     },
     "execution_count": 132,
     "metadata": {},
     "output_type": "execute_result"
    }
   ],
   "source": [
    "#Hitung v\n",
    "std1 = BulatanAtas.std()\n",
    "std2 = BulatanBawah.std()\n",
    "n1 = 20\n",
    "n2 = 20\n",
    "v(std1, std2, n1, n2)"
   ]
  },
  {
   "cell_type": "code",
   "execution_count": 133,
   "metadata": {},
   "outputs": [
    {
     "data": {
      "text/plain": [
       "-3.3792268633124025"
      ]
     },
     "execution_count": 133,
     "metadata": {},
     "output_type": "execute_result"
    }
   ],
   "source": [
    "#Hitung t\n",
    "x1 = BulatanAtas.mean()\n",
    "x2 = BulatanBawah.mean()\n",
    "d0 = 0\n",
    "std1 = BulatanAtas.std()\n",
    "std2 = BulatanBawah.std()\n",
    "n1 = 20\n",
    "n2 = 20\n",
    "t(x1, x2, d0, std1, std2, n1, n2)\n"
   ]
  },
  {
   "cell_type": "markdown",
   "metadata": {},
   "source": [
    "---"
   ]
  },
  {
   "cell_type": "markdown",
   "metadata": {},
   "source": [
    "### 5.4 Proporsi nilai Ransum\n",
    "Proporsi nilai bagian awal Ransum yang lebih dari 2, adalah lebih besar daripada, proporsi nilai yang sama di bagian akhir Ransum?\n"
   ]
  },
  {
   "cell_type": "code",
   "execution_count": 134,
   "metadata": {},
   "outputs": [
    {
     "data": {
      "text/markdown": [
       "### Visualisasi Boxplot"
      ],
      "text/plain": [
       "<IPython.core.display.Markdown object>"
      ]
     },
     "metadata": {},
     "output_type": "display_data"
    },
    {
     "data": {
      "image/png": "[encoded data removed]",
      "text/plain": [
       "<Figure size 432x288 with 1 Axes>"
      ]
     },
     "metadata": {
      "needs_background": "light"
     },
     "output_type": "display_data"
    }
   ],
   "source": [
    "display(Markdown(\"### Visualisasi Boxplot\"))\n",
    "plt.boxplot([setengahatas[\"Ransum\"], setengahbawah[\"Ransum\"]])\n",
    "plt.xticks(ticks=[1,2],labels=[\"1 - 250\",\"251 - 500\"])\n",
    "plt.title(\"Ransum\")\n",
    "plt.tight_layout()\n",
    "plt.show()"
   ]
  },
  {
   "cell_type": "code",
   "execution_count": 135,
   "metadata": {},
   "outputs": [
    {
     "data": {
      "text/html": [
       "<div>\n",
       "<style scoped>\n",
       "    .dataframe tbody tr th:only-of-type {\n",
       "        vertical-align: middle;\n",
       "    }\n",
       "\n",
       "    .dataframe tbody tr th {\n",
       "        vertical-align: top;\n",
       "    }\n",
       "\n",
       "    .dataframe thead th {\n",
       "        text-align: right;\n",
       "    }\n",
       "</style>\n",
       "<table border=\"1\" class=\"dataframe\">\n",
       "  <thead>\n",
       "    <tr style=\"text-align: right;\">\n",
       "      <th></th>\n",
       "      <th>Ransum</th>\n",
       "    </tr>\n",
       "  </thead>\n",
       "  <tbody>\n",
       "    <tr>\n",
       "      <th>count</th>\n",
       "      <td>250.000000</td>\n",
       "    </tr>\n",
       "    <tr>\n",
       "      <th>mean</th>\n",
       "      <td>2.357643</td>\n",
       "    </tr>\n",
       "    <tr>\n",
       "      <th>std</th>\n",
       "      <td>0.094939</td>\n",
       "    </tr>\n",
       "    <tr>\n",
       "      <th>min</th>\n",
       "      <td>1.440796</td>\n",
       "    </tr>\n",
       "    <tr>\n",
       "      <th>25%</th>\n",
       "      <td>2.314103</td>\n",
       "    </tr>\n",
       "    <tr>\n",
       "      <th>50%</th>\n",
       "      <td>2.382048</td>\n",
       "    </tr>\n",
       "    <tr>\n",
       "      <th>75%</th>\n",
       "      <td>2.424445</td>\n",
       "    </tr>\n",
       "    <tr>\n",
       "      <th>max</th>\n",
       "      <td>2.464809</td>\n",
       "    </tr>\n",
       "  </tbody>\n",
       "</table>\n",
       "</div>"
      ],
      "text/plain": [
       "           Ransum\n",
       "count  250.000000\n",
       "mean     2.357643\n",
       "std      0.094939\n",
       "min      1.440796\n",
       "25%      2.314103\n",
       "50%      2.382048\n",
       "75%      2.424445\n",
       "max      2.464809"
      ]
     },
     "execution_count": 135,
     "metadata": {},
     "output_type": "execute_result"
    }
   ],
   "source": [
    "pd.DataFrame(setengahatas[\"Ransum\"].describe())"
   ]
  },
  {
   "cell_type": "code",
   "execution_count": 136,
   "metadata": {},
   "outputs": [
    {
     "data": {
      "text/html": [
       "<div>\n",
       "<style scoped>\n",
       "    .dataframe tbody tr th:only-of-type {\n",
       "        vertical-align: middle;\n",
       "    }\n",
       "\n",
       "    .dataframe tbody tr th {\n",
       "        vertical-align: top;\n",
       "    }\n",
       "\n",
       "    .dataframe thead th {\n",
       "        text-align: right;\n",
       "    }\n",
       "</style>\n",
       "<table border=\"1\" class=\"dataframe\">\n",
       "  <thead>\n",
       "    <tr style=\"text-align: right;\">\n",
       "      <th></th>\n",
       "      <th>Ransum</th>\n",
       "    </tr>\n",
       "  </thead>\n",
       "  <tbody>\n",
       "    <tr>\n",
       "      <th>count</th>\n",
       "      <td>250.000000</td>\n",
       "    </tr>\n",
       "    <tr>\n",
       "      <th>mean</th>\n",
       "      <td>1.944187</td>\n",
       "    </tr>\n",
       "    <tr>\n",
       "      <th>std</th>\n",
       "      <td>0.173747</td>\n",
       "    </tr>\n",
       "    <tr>\n",
       "      <th>min</th>\n",
       "      <td>1.453137</td>\n",
       "    </tr>\n",
       "    <tr>\n",
       "      <th>25%</th>\n",
       "      <td>1.838760</td>\n",
       "    </tr>\n",
       "    <tr>\n",
       "      <th>50%</th>\n",
       "      <td>1.984110</td>\n",
       "    </tr>\n",
       "    <tr>\n",
       "      <th>75%</th>\n",
       "      <td>2.075044</td>\n",
       "    </tr>\n",
       "    <tr>\n",
       "      <th>max</th>\n",
       "      <td>2.218493</td>\n",
       "    </tr>\n",
       "  </tbody>\n",
       "</table>\n",
       "</div>"
      ],
      "text/plain": [
       "           Ransum\n",
       "count  250.000000\n",
       "mean     1.944187\n",
       "std      0.173747\n",
       "min      1.453137\n",
       "25%      1.838760\n",
       "50%      1.984110\n",
       "75%      2.075044\n",
       "max      2.218493"
      ]
     },
     "execution_count": 136,
     "metadata": {},
     "output_type": "execute_result"
    }
   ],
   "source": [
    "pd.DataFrame(setengahbawah[\"Ransum\"].describe())"
   ]
  },
  {
   "cell_type": "code",
   "execution_count": 137,
   "metadata": {},
   "outputs": [
    {
     "name": "stdout",
     "output_type": "stream",
     "text": [
      "Count nilai ransum > 2 bagian atas: 249\n",
      "Count nilai ransum > 2 bagian bawah: 116\n"
     ]
    }
   ],
   "source": [
    "ataslebih2 = setengahatas.loc[setengahatas[\"Ransum\"] > 2][\"id\"].count()\n",
    "bawahlebih2 = setengahbawah.loc[setengahbawah[\"Ransum\"] > 2][\"id\"].count()\n",
    "print(\"Count nilai ransum > 2 bagian atas:\", ataslebih2)\n",
    "print(\"Count nilai ransum > 2 bagian bawah:\", bawahlebih2)"
   ]
  },
  {
   "cell_type": "markdown",
   "metadata": {},
   "source": [
    "**1. Menentukan hipotesis nol**<br>\n",
    "&nbsp;&nbsp;&nbsp;&nbsp;$H_0$: $p_{Atas}$ = $p_{Bawah}$<br>\n",
    "\n",
    "**2. Menentukan hipotesis alternatif**<br>\n",
    "&nbsp;&nbsp;&nbsp;&nbsp;$H_1$: $p_{Atas}$ > $p_{Bawah}$<br>\n",
    "\n",
    "**3. Menentukan tingkat signifikan**<br>\n",
    "&nbsp;&nbsp;&nbsp;&nbsp;α = 0.05<br>\n",
    "\n",
    "**4. Menentukan daerah kritis**<br>\n",
    "&nbsp;&nbsp;&nbsp;&nbsp;Jenis uji statistik: One-tailed normal, z test<br>\n",
    "&nbsp;&nbsp;&nbsp;&nbsp;Daerah kritis: z > 1.645<br>\n",
    "\n",
    "**5. Hitung nilai uji statistik dan p-value**<br>\n",
    "&nbsp;&nbsp;&nbsp;&nbsp;${x_1} = 249$<br>\n",
    "&nbsp;&nbsp;&nbsp;&nbsp;${x_2} = 116$<br>\n",
    "&nbsp;&nbsp;&nbsp;&nbsp;${n_1} = 250$<br>\n",
    "&nbsp;&nbsp;&nbsp;&nbsp;${n_2} = 250$<br>\n",
    "&nbsp;&nbsp;&nbsp;&nbsp;$\\hat{p} = 0.73$<br>\n",
    "&nbsp;&nbsp;&nbsp;&nbsp;$\\hat{q} = 0.27$<br>\n",
    "&nbsp;&nbsp;&nbsp;&nbsp;$\\hat{p_1} = \\frac{249}{250}$ = $0.996$<br>\n",
    "&nbsp;&nbsp;&nbsp;&nbsp;$\\hat{p_2} = \\frac{116}{250}$ = $0.464$<br>\n",
    "&nbsp;&nbsp;&nbsp;&nbsp;$z = \\Large\\frac{(\\hat{p}_1 - \\hat{p}_2)}{\\sqrt{\\hat{p}\\hat{q}(\\frac{1}{n_1} + \\frac{1}{n_2})}}$ = $13.397486455610238$<br><br>\n",
    "&nbsp;&nbsp;&nbsp;&nbsp;$\\hat{p} = \\Large\\frac{x_1 + x_2}{n_1 + n_2}$ = $0.73$ <br><br>\n",
    "&nbsp;&nbsp;&nbsp;&nbsp;$p-value \\approx 0. $<br>\n",
    "\n",
    "**6. Penarikan kesimpulan**<br>\n",
    "&nbsp;&nbsp;&nbsp;&nbsp;**TOLAK $H_0$** karena z berada pada daerah kritis dan didukung oleh hasil p-value yang lebih kecil dari nilai α yang telah ditentukan.<br> \n",
    "&nbsp;&nbsp;&nbsp;&nbsp;Maka, dapat disimpulkan bahwa Proporsi nilai bagian awal Ransum yang lebih dari 2, adalah lebih besar daripada, proporsi nilai yang sama di bagian akhir<br> &nbsp;&nbsp;&nbsp;&nbsp;Ransum.<br><br>\n"
   ]
  },
  {
   "cell_type": "markdown",
   "metadata": {},
   "source": [
    "#### Perhitungan uji statistik 5.4"
   ]
  },
  {
   "cell_type": "code",
   "execution_count": 138,
   "metadata": {},
   "outputs": [
    {
     "data": {
      "text/plain": [
       "0.73"
      ]
     },
     "execution_count": 138,
     "metadata": {},
     "output_type": "execute_result"
    }
   ],
   "source": [
    "#Hitung phat\n",
    "x1 = ataslebih2\n",
    "x2 = bawahlebih2\n",
    "n1 = 250\n",
    "n2 = 250\n",
    "phat(x1, x2, n1, n2)"
   ]
  },
  {
   "cell_type": "code",
   "execution_count": 139,
   "metadata": {},
   "outputs": [
    {
     "data": {
      "text/plain": [
       "13.397486455610238"
      ]
     },
     "execution_count": 139,
     "metadata": {},
     "output_type": "execute_result"
    }
   ],
   "source": [
    "#Hitung z\n",
    "phat1 = ataslebih2/250\n",
    "phat2 = bawahlebih2/250\n",
    "phat = phat(x1, x2, n1, n2)\n",
    "qhat = 1 - phat\n",
    "n1 = 250\n",
    "n2 = 250\n",
    "normalzproporsi(phat1, phat2, phat, qhat, n1, n2)"
   ]
  },
  {
   "cell_type": "markdown",
   "metadata": {},
   "source": [
    "---"
   ]
  },
  {
   "cell_type": "markdown",
   "metadata": {},
   "source": [
    "### 5.5 Variansi Diameter\n",
    "Bagian awal kolom Diameter memiliki variansi yang sama dengan bagian akhirnya?\n"
   ]
  },
  {
   "cell_type": "code",
   "execution_count": 140,
   "metadata": {},
   "outputs": [
    {
     "data": {
      "text/markdown": [
       "### Visualisasi Boxplot"
      ],
      "text/plain": [
       "<IPython.core.display.Markdown object>"
      ]
     },
     "metadata": {},
     "output_type": "display_data"
    },
    {
     "data": {
      "image/png": "[encoded data removed]",
      "text/plain": [
       "<Figure size 432x288 with 1 Axes>"
      ]
     },
     "metadata": {
      "needs_background": "light"
     },
     "output_type": "display_data"
    }
   ],
   "source": [
    "display(Markdown(\"### Visualisasi Boxplot\"))\n",
    "plt.boxplot([setengahatas[\"Diameter\"], setengahbawah[\"Diameter\"]])\n",
    "plt.xticks(ticks=[1,2],labels=[\"1 - 250\",\"251 - 500\"])\n",
    "plt.title(\"Diameter\")\n",
    "plt.tight_layout()\n",
    "plt.show()"
   ]
  },
  {
   "cell_type": "code",
   "execution_count": 141,
   "metadata": {},
   "outputs": [
    {
     "data": {
      "text/html": [
       "<div>\n",
       "<style scoped>\n",
       "    .dataframe tbody tr th:only-of-type {\n",
       "        vertical-align: middle;\n",
       "    }\n",
       "\n",
       "    .dataframe tbody tr th {\n",
       "        vertical-align: top;\n",
       "    }\n",
       "\n",
       "    .dataframe thead th {\n",
       "        text-align: right;\n",
       "    }\n",
       "</style>\n",
       "<table border=\"1\" class=\"dataframe\">\n",
       "  <thead>\n",
       "    <tr style=\"text-align: right;\">\n",
       "      <th></th>\n",
       "      <th>Diameter</th>\n",
       "    </tr>\n",
       "  </thead>\n",
       "  <tbody>\n",
       "    <tr>\n",
       "      <th>count</th>\n",
       "      <td>250.000000</td>\n",
       "    </tr>\n",
       "    <tr>\n",
       "      <th>mean</th>\n",
       "      <td>82.613746</td>\n",
       "    </tr>\n",
       "    <tr>\n",
       "      <th>std</th>\n",
       "      <td>6.570311</td>\n",
       "    </tr>\n",
       "    <tr>\n",
       "      <th>min</th>\n",
       "      <td>63.189233</td>\n",
       "    </tr>\n",
       "    <tr>\n",
       "      <th>25%</th>\n",
       "      <td>78.314712</td>\n",
       "    </tr>\n",
       "    <tr>\n",
       "      <th>50%</th>\n",
       "      <td>83.259548</td>\n",
       "    </tr>\n",
       "    <tr>\n",
       "      <th>75%</th>\n",
       "      <td>86.965749</td>\n",
       "    </tr>\n",
       "    <tr>\n",
       "      <th>max</th>\n",
       "      <td>97.413830</td>\n",
       "    </tr>\n",
       "  </tbody>\n",
       "</table>\n",
       "</div>"
      ],
      "text/plain": [
       "         Diameter\n",
       "count  250.000000\n",
       "mean    82.613746\n",
       "std      6.570311\n",
       "min     63.189233\n",
       "25%     78.314712\n",
       "50%     83.259548\n",
       "75%     86.965749\n",
       "max     97.413830"
      ]
     },
     "execution_count": 141,
     "metadata": {},
     "output_type": "execute_result"
    }
   ],
   "source": [
    "pd.DataFrame(setengahatas[\"Diameter\"].describe())"
   ]
  },
  {
   "cell_type": "code",
   "execution_count": 142,
   "metadata": {},
   "outputs": [
    {
     "data": {
      "text/html": [
       "<div>\n",
       "<style scoped>\n",
       "    .dataframe tbody tr th:only-of-type {\n",
       "        vertical-align: middle;\n",
       "    }\n",
       "\n",
       "    .dataframe tbody tr th {\n",
       "        vertical-align: top;\n",
       "    }\n",
       "\n",
       "    .dataframe thead th {\n",
       "        text-align: right;\n",
       "    }\n",
       "</style>\n",
       "<table border=\"1\" class=\"dataframe\">\n",
       "  <thead>\n",
       "    <tr style=\"text-align: right;\">\n",
       "      <th></th>\n",
       "      <th>Diameter</th>\n",
       "    </tr>\n",
       "  </thead>\n",
       "  <tbody>\n",
       "    <tr>\n",
       "      <th>count</th>\n",
       "      <td>250.000000</td>\n",
       "    </tr>\n",
       "    <tr>\n",
       "      <th>mean</th>\n",
       "      <td>72.928570</td>\n",
       "    </tr>\n",
       "    <tr>\n",
       "      <th>std</th>\n",
       "      <td>6.310964</td>\n",
       "    </tr>\n",
       "    <tr>\n",
       "      <th>min</th>\n",
       "      <td>56.666658</td>\n",
       "    </tr>\n",
       "    <tr>\n",
       "      <th>25%</th>\n",
       "      <td>68.946644</td>\n",
       "    </tr>\n",
       "    <tr>\n",
       "      <th>50%</th>\n",
       "      <td>72.878794</td>\n",
       "    </tr>\n",
       "    <tr>\n",
       "      <th>75%</th>\n",
       "      <td>76.717337</td>\n",
       "    </tr>\n",
       "    <tr>\n",
       "      <th>max</th>\n",
       "      <td>94.042128</td>\n",
       "    </tr>\n",
       "  </tbody>\n",
       "</table>\n",
       "</div>"
      ],
      "text/plain": [
       "         Diameter\n",
       "count  250.000000\n",
       "mean    72.928570\n",
       "std      6.310964\n",
       "min     56.666658\n",
       "25%     68.946644\n",
       "50%     72.878794\n",
       "75%     76.717337\n",
       "max     94.042128"
      ]
     },
     "execution_count": 142,
     "metadata": {},
     "output_type": "execute_result"
    }
   ],
   "source": [
    "pd.DataFrame(setengahbawah[\"Diameter\"].describe())"
   ]
  },
  {
   "cell_type": "markdown",
   "metadata": {},
   "source": [
    "**1. Menentukan hipotesis nol**<br>\n",
    "&nbsp;&nbsp;&nbsp;&nbsp;$H_0$: $\\sigma^2_{Atas}$ = $\\sigma^2_{Bawah}$<br>\n",
    "\n",
    "**2. Menentukan hipotesis alternatif**<br>\n",
    "&nbsp;&nbsp;&nbsp;&nbsp;$H_1$: $\\sigma^2_{Atas}$ ≠ $\\sigma^2_{Bawah}$<br>\n",
    "\n",
    "**3. Menentukan tingkat signifikan**<br>\n",
    "&nbsp;&nbsp;&nbsp;&nbsp;α = 0.05<br>\n",
    "\n",
    "**4. Menentukan daerah kritis**<br>\n",
    "&nbsp;&nbsp;&nbsp;&nbsp;Jenis uji statistik: One-tailed f-distribution test<br>\n",
    "&nbsp;&nbsp;&nbsp;&nbsp;Jenis uji statistik ini dipilih karena nilai statistik yang akan diuji adalah varians.<br>\n",
    "&nbsp;&nbsp;&nbsp;&nbsp;Daerah kritis: f > 1.283 atau f < $\\normalsize\\frac{1}{1.283}$ = 0.7794<br>\n",
    "\n",
    "**5. Hitung nilai uji statistik dan p-value**<br>\n",
    "&nbsp;&nbsp;&nbsp;&nbsp;${v_1} = 249$<br>\n",
    "&nbsp;&nbsp;&nbsp;&nbsp;${v_2} = 249$<br>\n",
    "&nbsp;&nbsp;&nbsp;&nbsp;${n_1} = 250$<br>\n",
    "&nbsp;&nbsp;&nbsp;&nbsp;${n_2} = 250$<br>\n",
    "&nbsp;&nbsp;&nbsp;&nbsp;${{s_1}^2} = 43.16898042632247$<br>\n",
    "&nbsp;&nbsp;&nbsp;&nbsp;${{s_2}^2} = 39.82826438807724$<br>\n",
    "&nbsp;&nbsp;&nbsp;&nbsp;$\\\\f = \\Large\\frac{{s_1}^2}{{s_2}^2}$ = $1.083878022042188$ <br><br>\n",
    "&nbsp;&nbsp;&nbsp;&nbsp;$p-value \\approx 0.74 $<br>\n",
    "\n",
    "**6. Penarikan kesimpulan**<br>\n",
    "&nbsp;&nbsp;&nbsp;&nbsp;**TERIMA $H_0$** karena f tidak berada pada daerah kritis dan didukung oleh hasil p-value yang lebih besar dari nilai α/2 yang<br> &nbsp;&nbsp;&nbsp;&nbsp;telah ditentukan.<br> \n",
    "&nbsp;&nbsp;&nbsp;&nbsp;Maka, dapat disimpulkan bahwa bagian awal kolom Diameter memiliki variansi yang sama dengan bagian akhirnya<br><br>\n"
   ]
  },
  {
   "cell_type": "markdown",
   "metadata": {},
   "source": [
    "#### Perhitungan uji statistik 5.5"
   ]
  },
  {
   "cell_type": "code",
   "execution_count": 143,
   "metadata": {
    "colab": {
     "base_uri": "https://localhost:8080/"
    },
    "id": "sZxncbN28_DQ",
    "outputId": "de6843cb-d562-4d8f-a314-159d6601d1de"
   },
   "outputs": [
    {
     "data": {
      "text/plain": [
       "1.083878022042188"
      ]
     },
     "execution_count": 143,
     "metadata": {},
     "output_type": "execute_result"
    }
   ],
   "source": [
    "std1 = setengahatas[\"Diameter\"].std()\n",
    "std2 = setengahbawah[\"Diameter\"].std()\n",
    "f(std1, std2)\n"
   ]
  },
  {
   "cell_type": "markdown",
   "metadata": {},
   "source": [
    "---"
   ]
  },
  {
   "cell_type": "markdown",
   "metadata": {},
   "source": [
    "## Soal 6 - Tes Korelasi\n",
    "\n",
    "Test korelasi menggunakan metode Pearson Product Moment Correlation akan menghasilkan Pearson correlation coefficient pada rentang $(-1 ≤ r ≤ 1)$ untuk suatu random variable $X$ dan $Y$\n",
    "\n",
    "*   r = 1, maka kedua kolom yang dibandingkan memiliki korelasi positif sempurna, artinya jika nilai $X$ membesar, maka nilai $Y$ juga membesar dan *vice versa*\n",
    "*   Bila $r > 0$, maka kolom $X$ dan $Y$ memiliki korelasi positif\n",
    "* Bila $r = 0$, maka kolom $X$ dan $Y$ tidak memiliki korelasi\n",
    "* Bila $r < 0$, maka kolom $X$ dan $Y$ memiliki korelasi negatif\n",
    "* Bila $r = -1$, maka maka kedua kolom yang dibandingkan memiliki korelasi negatif sempurna, artinya jika nilai $X$ membesar, maka nilai $Y$ mengecil dan *vice versa*.\n",
    "<br>\n",
    "<br>\n",
    "\n",
    "**Klasifikasi Pearson correlation coefficient** <br>\n",
    "* Perfect Correlation $\\rightarrow r = \\pm 1$\n",
    "* High Degree Correlation $\\rightarrow 0.5 ≤ r ≤ 1$ or $-1 ≤ r ≤ -0.5$\n",
    "* Moderate Degree Correlation $\\rightarrow 0.3 ≤ r ≤ 0.49$ or $-0.49 ≤ r ≤ -0.3$\n",
    "* Low Degree Correlation $\\rightarrow  0 < r ≤ 0.29$ or $-0.29 ≤ r < 0$\n",
    "* No Correlation $\\rightarrow  r = 0$"
   ]
  },
  {
   "cell_type": "code",
   "execution_count": 144,
   "metadata": {
    "colab": {
     "base_uri": "https://localhost:8080/",
     "height": 36
    },
    "id": "bvRl7CBO95Y4",
    "outputId": "47719702-d79b-4a9c-96c0-91659dcee4f6"
   },
   "outputs": [],
   "source": [
    "def correlationTest(kol1, kol2):\n",
    "  r = np.corrcoef(df[kol1], df[kol2])\n",
    "  rCoef = r[0][1]\n",
    "  corrCoef = (\"$r = %.3f$\" %(rCoef))\n",
    "  print()\n",
    "  display(Markdown(\"**Hasil :** <br>\"))\n",
    "  display(Markdown(corrCoef+\" <br>\"))\n",
    "  classify(rCoef, kol1, kol2)\n",
    "  sns.regplot(df[kol1], df[kol2])\n",
    "\n",
    "def classify(r, kol1, kol2):\n",
    "  if (r == 1):\n",
    "    text = \"Berdasarkan nilai Pearson correlation coefficient yang didapatkan, dapat disimpulkan bahwa kolom %s dan %s memiliki **perfect positive correlation**\" %(kol1, kol2)\n",
    "  elif (r > 0):\n",
    "    if (0.5 <= r < 1):\n",
    "      text = \"Berdasarkan nilai Pearson correlation coefficient yang didapatkan, dapat disimpulkan bahwa kolom %s dan %s memiliki **high degree positive correlation**\" %(kol1, kol2)\n",
    "    elif (0.3 <= r <= 0.49):\n",
    "      text = \"Berdasarkan nilai Pearson correlation coefficient yang didapatkan, dapat disimpulkan bahwa kolom %s dan %s memiliki **moderate degree positive correlation**\" %(kol1, kol2)\n",
    "    elif (r <= 0.29):\n",
    "      text = \"Berdasarkan nilai Pearson correlation coefficient yang didapatkan, dapat disimpulkan bahwa kolom %s dan %s memiliki **low degree positive correlation**\" %(kol1, kol2)\n",
    "  elif (r == 0):\n",
    "    text = \"Berdasarkan nilai Pearson correlation coefficient yang didapatkan, dapat disimpulkan bahwa kolom %s dan %s **tidak memiliki korelasi**\" %(kol1, kol2)\n",
    "  elif (r < 0):\n",
    "    if (-1 < r <= -0.5):\n",
    "      text = \"Berdasarkan nilai Pearson correlation coefficient yang didapatkan, dapat disimpulkan bahwa kolom %s dan %s memiliki **high degree negative correlation**\" %(kol1, kol2)\n",
    "    elif (-0.49 <= r <= -0.3):\n",
    "      text = \"Berdasarkan nilai Pearson correlation coefficient yang didapatkan, dapat disimpulkan bahwa kolom %s dan %s memiliki **moderate degree negative correlation**\" %(kol1, kol2)\n",
    "    elif (r >= -0.29):\n",
    "      text = \"Berdasarkan nilai Pearson correlation coefficient yang didapatkan, dapat disimpulkan bahwa kolom %s dan %s memiliki **low degree negative correlation**\" %(kol1, kol2)\n",
    "  elif (r == -1):\n",
    "    text = \"Berdasarkan nilai Pearson correlation coefficient yang didapatkan, dapat disimpulkan bahwa kolom %s dan %s memiliki **perfect negative correlation**\" %(kol1, kol2)\n",
    "  \n",
    "  display(Markdown(\"**Kesimpulan :** <br>\"+text))"
   ]
  },
  {
   "cell_type": "markdown",
   "metadata": {},
   "source": [
    "---\n",
    "\n",
    "### 6.1 Korelasi Kolom Daerah dengan Kolom Kelas"
   ]
  },
  {
   "cell_type": "code",
   "execution_count": 145,
   "metadata": {},
   "outputs": [
    {
     "name": "stdout",
     "output_type": "stream",
     "text": [
      "\n"
     ]
    },
    {
     "data": {
      "text/markdown": [
       "**Hasil :** <br>"
      ],
      "text/plain": [
       "<IPython.core.display.Markdown object>"
      ]
     },
     "metadata": {},
     "output_type": "display_data"
    },
    {
     "data": {
      "text/markdown": [
       "$r = -0.603$ <br>"
      ],
      "text/plain": [
       "<IPython.core.display.Markdown object>"
      ]
     },
     "metadata": {},
     "output_type": "display_data"
    },
    {
     "data": {
      "text/markdown": [
       "**Kesimpulan :** <br>Berdasarkan nilai Pearson correlation coefficient yang didapatkan, dapat disimpulkan bahwa kolom Daerah dan Kelas memiliki **high degree negative correlation**"
      ],
      "text/plain": [
       "<IPython.core.display.Markdown object>"
      ]
     },
     "metadata": {},
     "output_type": "display_data"
    },
    {
     "data": {
      "image/png": "[encoded data removed]",
      "text/plain": [
       "<Figure size 432x288 with 1 Axes>"
      ]
     },
     "metadata": {
      "needs_background": "light"
     },
     "output_type": "display_data"
    }
   ],
   "source": [
    "correlationTest(\"Daerah\", \"Kelas\")"
   ]
  },
  {
   "cell_type": "markdown",
   "metadata": {},
   "source": [
    "---\n",
    "\n",
    "### 6.2 Korelasi Kolom SumbuUtama dengan Kolom Kelas"
   ]
  },
  {
   "cell_type": "code",
   "execution_count": 146,
   "metadata": {},
   "outputs": [
    {
     "name": "stdout",
     "output_type": "stream",
     "text": [
      "\n"
     ]
    },
    {
     "data": {
      "text/markdown": [
       "**Hasil :** <br>"
      ],
      "text/plain": [
       "<IPython.core.display.Markdown object>"
      ]
     },
     "metadata": {},
     "output_type": "display_data"
    },
    {
     "data": {
      "text/markdown": [
       "$r = -0.713$ <br>"
      ],
      "text/plain": [
       "<IPython.core.display.Markdown object>"
      ]
     },
     "metadata": {},
     "output_type": "display_data"
    },
    {
     "data": {
      "text/markdown": [
       "**Kesimpulan :** <br>Berdasarkan nilai Pearson correlation coefficient yang didapatkan, dapat disimpulkan bahwa kolom SumbuUtama dan Kelas memiliki **high degree negative correlation**"
      ],
      "text/plain": [
       "<IPython.core.display.Markdown object>"
      ]
     },
     "metadata": {},
     "output_type": "display_data"
    },
    {
     "data": {
      "image/png": "[encoded data removed]",
      "text/plain": [
       "<Figure size 432x288 with 1 Axes>"
      ]
     },
     "metadata": {
      "needs_background": "light"
     },
     "output_type": "display_data"
    }
   ],
   "source": [
    "correlationTest(\"SumbuUtama\", \"Kelas\")"
   ]
  },
  {
   "cell_type": "markdown",
   "metadata": {},
   "source": [
    "---\n",
    "\n",
    "### 6.3 Korelasi Kolom SumbuKecil dengan Kolom Kelas"
   ]
  },
  {
   "cell_type": "code",
   "execution_count": 147,
   "metadata": {},
   "outputs": [
    {
     "name": "stdout",
     "output_type": "stream",
     "text": [
      "\n"
     ]
    },
    {
     "data": {
      "text/markdown": [
       "**Hasil :** <br>"
      ],
      "text/plain": [
       "<IPython.core.display.Markdown object>"
      ]
     },
     "metadata": {},
     "output_type": "display_data"
    },
    {
     "data": {
      "text/markdown": [
       "$r = -0.153$ <br>"
      ],
      "text/plain": [
       "<IPython.core.display.Markdown object>"
      ]
     },
     "metadata": {},
     "output_type": "display_data"
    },
    {
     "data": {
      "text/markdown": [
       "**Kesimpulan :** <br>Berdasarkan nilai Pearson correlation coefficient yang didapatkan, dapat disimpulkan bahwa kolom SumbuKecil dan Kelas memiliki **low degree negative correlation**"
      ],
      "text/plain": [
       "<IPython.core.display.Markdown object>"
      ]
     },
     "metadata": {},
     "output_type": "display_data"
    },
    {
     "data": {
      "image/png": "[encoded data removed]",
      "text/plain": [
       "<Figure size 432x288 with 1 Axes>"
      ]
     },
     "metadata": {
      "needs_background": "light"
     },
     "output_type": "display_data"
    }
   ],
   "source": [
    "correlationTest(\"SumbuKecil\", \"Kelas\")"
   ]
  },
  {
   "cell_type": "markdown",
   "metadata": {},
   "source": [
    "---\n",
    "\n",
    "### 6.4 Korelasi Kolom Keunikan dengan Kolom Kelas"
   ]
  },
  {
   "cell_type": "code",
   "execution_count": 148,
   "metadata": {},
   "outputs": [
    {
     "name": "stdout",
     "output_type": "stream",
     "text": [
      "\n"
     ]
    },
    {
     "data": {
      "text/markdown": [
       "**Hasil :** <br>"
      ],
      "text/plain": [
       "<IPython.core.display.Markdown object>"
      ]
     },
     "metadata": {},
     "output_type": "display_data"
    },
    {
     "data": {
      "text/markdown": [
       "$r = -0.730$ <br>"
      ],
      "text/plain": [
       "<IPython.core.display.Markdown object>"
      ]
     },
     "metadata": {},
     "output_type": "display_data"
    },
    {
     "data": {
      "text/markdown": [
       "**Kesimpulan :** <br>Berdasarkan nilai Pearson correlation coefficient yang didapatkan, dapat disimpulkan bahwa kolom Keunikan dan Kelas memiliki **high degree negative correlation**"
      ],
      "text/plain": [
       "<IPython.core.display.Markdown object>"
      ]
     },
     "metadata": {},
     "output_type": "display_data"
    },
    {
     "data": {
      "image/png": "[encoded data removed]",
      "text/plain": [
       "<Figure size 432x288 with 1 Axes>"
      ]
     },
     "metadata": {
      "needs_background": "light"
     },
     "output_type": "display_data"
    }
   ],
   "source": [
    "correlationTest(\"Keunikan\", \"Kelas\")"
   ]
  },
  {
   "cell_type": "markdown",
   "metadata": {},
   "source": [
    "---\n",
    "\n",
    "### 6.5 Korelasi Kolom AreaBulatan dengan Kolom Kelas"
   ]
  },
  {
   "cell_type": "code",
   "execution_count": 149,
   "metadata": {},
   "outputs": [
    {
     "name": "stdout",
     "output_type": "stream",
     "text": [
      "\n"
     ]
    },
    {
     "data": {
      "text/markdown": [
       "**Hasil :** <br>"
      ],
      "text/plain": [
       "<IPython.core.display.Markdown object>"
      ]
     },
     "metadata": {},
     "output_type": "display_data"
    },
    {
     "data": {
      "text/markdown": [
       "$r = -0.607$ <br>"
      ],
      "text/plain": [
       "<IPython.core.display.Markdown object>"
      ]
     },
     "metadata": {},
     "output_type": "display_data"
    },
    {
     "data": {
      "text/markdown": [
       "**Kesimpulan :** <br>Berdasarkan nilai Pearson correlation coefficient yang didapatkan, dapat disimpulkan bahwa kolom AreaBulatan dan Kelas memiliki **high degree negative correlation**"
      ],
      "text/plain": [
       "<IPython.core.display.Markdown object>"
      ]
     },
     "metadata": {},
     "output_type": "display_data"
    },
    {
     "data": {
      "image/png": "[encoded data removed]",
      "text/plain": [
       "<Figure size 432x288 with 1 Axes>"
      ]
     },
     "metadata": {
      "needs_background": "light"
     },
     "output_type": "display_data"
    }
   ],
   "source": [
    "correlationTest(\"AreaBulatan\", \"Kelas\")"
   ]
  },
  {
   "cell_type": "markdown",
   "metadata": {},
   "source": [
    "---\n",
    "\n",
    "### 6.6 Korelasi Kolom Diameter dengan Kolom Kelas"
   ]
  },
  {
   "cell_type": "code",
   "execution_count": 150,
   "metadata": {},
   "outputs": [
    {
     "name": "stdout",
     "output_type": "stream",
     "text": [
      "\n"
     ]
    },
    {
     "data": {
      "text/markdown": [
       "**Hasil :** <br>"
      ],
      "text/plain": [
       "<IPython.core.display.Markdown object>"
      ]
     },
     "metadata": {},
     "output_type": "display_data"
    },
    {
     "data": {
      "text/markdown": [
       "$r = -0.603$ <br>"
      ],
      "text/plain": [
       "<IPython.core.display.Markdown object>"
      ]
     },
     "metadata": {},
     "output_type": "display_data"
    },
    {
     "data": {
      "text/markdown": [
       "**Kesimpulan :** <br>Berdasarkan nilai Pearson correlation coefficient yang didapatkan, dapat disimpulkan bahwa kolom Diameter dan Kelas memiliki **high degree negative correlation**"
      ],
      "text/plain": [
       "<IPython.core.display.Markdown object>"
      ]
     },
     "metadata": {},
     "output_type": "display_data"
    },
    {
     "data": {
      "image/png": "[encoded data removed]",
      "text/plain": [
       "<Figure size 432x288 with 1 Axes>"
      ]
     },
     "metadata": {
      "needs_background": "light"
     },
     "output_type": "display_data"
    }
   ],
   "source": [
    "correlationTest(\"Diameter\", \"Kelas\")"
   ]
  },
  {
   "cell_type": "markdown",
   "metadata": {},
   "source": [
    "---\n",
    "\n",
    "### 6.7 Korelasi Kolom KadarAir dengan Kolom Kelas"
   ]
  },
  {
   "cell_type": "code",
   "execution_count": 151,
   "metadata": {},
   "outputs": [
    {
     "name": "stdout",
     "output_type": "stream",
     "text": [
      "\n"
     ]
    },
    {
     "data": {
      "text/markdown": [
       "**Hasil :** <br>"
      ],
      "text/plain": [
       "<IPython.core.display.Markdown object>"
      ]
     },
     "metadata": {},
     "output_type": "display_data"
    },
    {
     "data": {
      "text/markdown": [
       "$r = 0.134$ <br>"
      ],
      "text/plain": [
       "<IPython.core.display.Markdown object>"
      ]
     },
     "metadata": {},
     "output_type": "display_data"
    },
    {
     "data": {
      "text/markdown": [
       "**Kesimpulan :** <br>Berdasarkan nilai Pearson correlation coefficient yang didapatkan, dapat disimpulkan bahwa kolom KadarAir dan Kelas memiliki **low degree positive correlation**"
      ],
      "text/plain": [
       "<IPython.core.display.Markdown object>"
      ]
     },
     "metadata": {},
     "output_type": "display_data"
    },
    {
     "data": {
      "image/png": "[encoded data removed]",
      "text/plain": [
       "<Figure size 432x288 with 1 Axes>"
      ]
     },
     "metadata": {
      "needs_background": "light"
     },
     "output_type": "display_data"
    }
   ],
   "source": [
    "correlationTest(\"KadarAir\", \"Kelas\")"
   ]
  },
  {
   "cell_type": "markdown",
   "metadata": {},
   "source": [
    "---\n",
    "\n",
    "### 6.8 Korelasi Kolom Keliling dengan Kolom Kelas"
   ]
  },
  {
   "cell_type": "code",
   "execution_count": 152,
   "metadata": {},
   "outputs": [
    {
     "name": "stdout",
     "output_type": "stream",
     "text": [
      "\n"
     ]
    },
    {
     "data": {
      "text/markdown": [
       "**Hasil :** <br>"
      ],
      "text/plain": [
       "<IPython.core.display.Markdown object>"
      ]
     },
     "metadata": {},
     "output_type": "display_data"
    },
    {
     "data": {
      "text/markdown": [
       "$r = -0.635$ <br>"
      ],
      "text/plain": [
       "<IPython.core.display.Markdown object>"
      ]
     },
     "metadata": {},
     "output_type": "display_data"
    },
    {
     "data": {
      "text/markdown": [
       "**Kesimpulan :** <br>Berdasarkan nilai Pearson correlation coefficient yang didapatkan, dapat disimpulkan bahwa kolom Keliling dan Kelas memiliki **high degree negative correlation**"
      ],
      "text/plain": [
       "<IPython.core.display.Markdown object>"
      ]
     },
     "metadata": {},
     "output_type": "display_data"
    },
    {
     "data": {
      "image/png": "[encoded data removed]",
      "text/plain": [
       "<Figure size 432x288 with 1 Axes>"
      ]
     },
     "metadata": {
      "needs_background": "light"
     },
     "output_type": "display_data"
    }
   ],
   "source": [
    "correlationTest(\"Keliling\", \"Kelas\")"
   ]
  },
  {
   "cell_type": "markdown",
   "metadata": {},
   "source": [
    "---\n",
    "\n",
    "### 6.9 Korelasi Kolom Bulatan dengan Kolom Kelas"
   ]
  },
  {
   "cell_type": "code",
   "execution_count": 153,
   "metadata": {},
   "outputs": [
    {
     "name": "stdout",
     "output_type": "stream",
     "text": [
      "\n"
     ]
    },
    {
     "data": {
      "text/markdown": [
       "**Hasil :** <br>"
      ],
      "text/plain": [
       "<IPython.core.display.Markdown object>"
      ]
     },
     "metadata": {},
     "output_type": "display_data"
    },
    {
     "data": {
      "text/markdown": [
       "$r = 0.545$ <br>"
      ],
      "text/plain": [
       "<IPython.core.display.Markdown object>"
      ]
     },
     "metadata": {},
     "output_type": "display_data"
    },
    {
     "data": {
      "text/markdown": [
       "**Kesimpulan :** <br>Berdasarkan nilai Pearson correlation coefficient yang didapatkan, dapat disimpulkan bahwa kolom Bulatan dan Kelas memiliki **high degree positive correlation**"
      ],
      "text/plain": [
       "<IPython.core.display.Markdown object>"
      ]
     },
     "metadata": {},
     "output_type": "display_data"
    },
    {
     "data": {
      "image/png": "[encoded data removed]",
      "text/plain": [
       "<Figure size 432x288 with 1 Axes>"
      ]
     },
     "metadata": {
      "needs_background": "light"
     },
     "output_type": "display_data"
    }
   ],
   "source": [
    "correlationTest(\"Bulatan\", \"Kelas\")"
   ]
  },
  {
   "cell_type": "markdown",
   "metadata": {},
   "source": [
    "---\n",
    "\n",
    "### 6.10 Korelasi Kolom Ransum dengan Kolom Kelas"
   ]
  },
  {
   "cell_type": "code",
   "execution_count": 154,
   "metadata": {},
   "outputs": [
    {
     "name": "stdout",
     "output_type": "stream",
     "text": [
      "\n"
     ]
    },
    {
     "data": {
      "text/markdown": [
       "**Hasil :** <br>"
      ],
      "text/plain": [
       "<IPython.core.display.Markdown object>"
      ]
     },
     "metadata": {},
     "output_type": "display_data"
    },
    {
     "data": {
      "text/markdown": [
       "$r = -0.840$ <br>"
      ],
      "text/plain": [
       "<IPython.core.display.Markdown object>"
      ]
     },
     "metadata": {},
     "output_type": "display_data"
    },
    {
     "data": {
      "text/markdown": [
       "**Kesimpulan :** <br>Berdasarkan nilai Pearson correlation coefficient yang didapatkan, dapat disimpulkan bahwa kolom Ransum dan Kelas memiliki **high degree negative correlation**"
      ],
      "text/plain": [
       "<IPython.core.display.Markdown object>"
      ]
     },
     "metadata": {},
     "output_type": "display_data"
    },
    {
     "data": {
      "image/png": "[encoded data removed]",
      "text/plain": [
       "<Figure size 432x288 with 1 Axes>"
      ]
     },
     "metadata": {
      "needs_background": "light"
     },
     "output_type": "display_data"
    }
   ],
   "source": [
    "correlationTest(\"Ransum\", \"Kelas\")"
   ]
  }
 ],
 "metadata": {
  "colab": {
   "collapsed_sections": [],
   "name": "Gandum.ipynb",
   "provenance": []
  },
  "kernelspec": {
   "display_name": "Python 3",
   "language": "python",
   "name": "python3"
  },
  "language_info": {
   "codemirror_mode": {
    "name": "ipython",
    "version": 3
   },
   "file_extension": ".py",
   "mimetype": "text/x-python",
   "name": "python",
   "nbconvert_exporter": "python",
   "pygments_lexer": "ipython3",
   "version": "3.8.3"
  }
 },
 "nbformat": 4,
 "nbformat_minor": 1
}
